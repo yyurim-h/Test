{
 "cells": [
  {
   "cell_type": "markdown",
   "id": "ff6cdead-489a-4174-a3f0-1f83eac4c38c",
   "metadata": {},
   "source": [
    "# CCTV 파일 연습"
   ]
  },
  {
   "cell_type": "code",
   "execution_count": 1,
   "id": "a02c55b9-f232-4892-abbf-5d467cbf8be0",
   "metadata": {},
   "outputs": [],
   "source": [
    "import pandas as pd"
   ]
  },
  {
   "cell_type": "code",
   "execution_count": 2,
   "id": "98a68b74-eda4-4e98-b81c-c1dfc32b3432",
   "metadata": {},
   "outputs": [],
   "source": [
    "import os\n",
    "os.chdir(\"/Users/yul/Desktop/Pythondata\")"
   ]
  },
  {
   "cell_type": "code",
   "execution_count": 3,
   "id": "6c009528-d064-46f4-8f18-c9a3e5a39e81",
   "metadata": {},
   "outputs": [
    {
     "data": {
      "text/plain": [
       "'/Users/yul/Desktop/Pythondata'"
      ]
     },
     "execution_count": 3,
     "metadata": {},
     "output_type": "execute_result"
    }
   ],
   "source": [
    "pwd"
   ]
  },
  {
   "cell_type": "markdown",
   "id": "b145f0e7-6c17-4076-8ba6-562e2b79382a",
   "metadata": {},
   "source": [
    "## 데이터 읽기"
   ]
  },
  {
   "cell_type": "code",
   "execution_count": 30,
   "id": "4fbf371d-a610-4c6e-8c71-f78910b41d1e",
   "metadata": {},
   "outputs": [],
   "source": [
    "CCTV_RESULT = pd.read_csv('CCTV_result.csv')"
   ]
  },
  {
   "cell_type": "code",
   "execution_count": 31,
   "id": "d5d25dbb-b3bf-4947-9382-6416c14e848c",
   "metadata": {},
   "outputs": [],
   "source": [
    "CCTV_IN_SEOUL = pd.read_csv('CCTV_IN_SEOUL.csv')"
   ]
  },
  {
   "cell_type": "code",
   "execution_count": 32,
   "id": "6c1364d2-a846-4f6a-8dc1-d9a33a8a32b0",
   "metadata": {},
   "outputs": [],
   "source": [
    "population_in_Seoul = pd.read_excel('population_in_seoul.xls')"
   ]
  },
  {
   "cell_type": "markdown",
   "id": "73877935-c05f-4481-b2dc-2afde06cd1f6",
   "metadata": {},
   "source": [
    "## 데이터 정리하기"
   ]
  },
  {
   "cell_type": "markdown",
   "id": "c17e87ed-90b3-46ab-9142-acb0eb7e7448",
   "metadata": {},
   "source": [
    "### CCTV_IN_SEOUL"
   ]
  },
  {
   "cell_type": "code",
   "execution_count": 33,
   "id": "54dc7d64-a02f-41d1-aef2-c29501548c9f",
   "metadata": {},
   "outputs": [
    {
     "data": {
      "text/plain": [
       "Index(['기관명', '소계', '2013년도 이전', '2014년', '2015년', '2016년'], dtype='object')"
      ]
     },
     "execution_count": 33,
     "metadata": {},
     "output_type": "execute_result"
    }
   ],
   "source": [
    "CCTV_IN_SEOUL.columns"
   ]
  },
  {
   "cell_type": "code",
   "execution_count": 34,
   "id": "00b9f289-7ffd-4a3d-ba6a-eaad41a65b04",
   "metadata": {},
   "outputs": [],
   "source": [
    "# CCTV_IN_SEOUL 파일의 이름을 '기관명'칼럼을 '구별'로 바꿔주세요.\n",
    "\n",
    "CCTV_IN_SEOUL.rename({'기관명' : '구별'}, axis = 1, inplace = True)\n",
    "\n",
    "# 또는 CCTV_IN_SEOUL.columns[0] = '구별'"
   ]
  },
  {
   "cell_type": "markdown",
   "id": "99db0f4c-fbf7-4eba-81ae-48ac8a5293ac",
   "metadata": {},
   "source": [
    "### population_in_Seoul"
   ]
  },
  {
   "cell_type": "code",
   "execution_count": 35,
   "id": "1dd5f210-3fdb-42a5-b8ff-2e68237e687e",
   "metadata": {},
   "outputs": [
    {
     "data": {
      "text/html": [
       "<div>\n",
       "<style scoped>\n",
       "    .dataframe tbody tr th:only-of-type {\n",
       "        vertical-align: middle;\n",
       "    }\n",
       "\n",
       "    .dataframe tbody tr th {\n",
       "        vertical-align: top;\n",
       "    }\n",
       "\n",
       "    .dataframe thead th {\n",
       "        text-align: right;\n",
       "    }\n",
       "</style>\n",
       "<table border=\"1\" class=\"dataframe\">\n",
       "  <thead>\n",
       "    <tr style=\"text-align: right;\">\n",
       "      <th></th>\n",
       "      <th>기간</th>\n",
       "      <th>자치구</th>\n",
       "      <th>세대</th>\n",
       "      <th>인구</th>\n",
       "      <th>인구.1</th>\n",
       "      <th>인구.2</th>\n",
       "      <th>인구.3</th>\n",
       "      <th>인구.4</th>\n",
       "      <th>인구.5</th>\n",
       "      <th>인구.6</th>\n",
       "      <th>인구.7</th>\n",
       "      <th>인구.8</th>\n",
       "      <th>세대당인구</th>\n",
       "      <th>65세이상고령자</th>\n",
       "    </tr>\n",
       "  </thead>\n",
       "  <tbody>\n",
       "    <tr>\n",
       "      <th>0</th>\n",
       "      <td>기간</td>\n",
       "      <td>자치구</td>\n",
       "      <td>세대</td>\n",
       "      <td>합계</td>\n",
       "      <td>합계</td>\n",
       "      <td>합계</td>\n",
       "      <td>한국인</td>\n",
       "      <td>한국인</td>\n",
       "      <td>한국인</td>\n",
       "      <td>등록외국인</td>\n",
       "      <td>등록외국인</td>\n",
       "      <td>등록외국인</td>\n",
       "      <td>세대당인구</td>\n",
       "      <td>65세이상고령자</td>\n",
       "    </tr>\n",
       "    <tr>\n",
       "      <th>1</th>\n",
       "      <td>기간</td>\n",
       "      <td>자치구</td>\n",
       "      <td>세대</td>\n",
       "      <td>계</td>\n",
       "      <td>남자</td>\n",
       "      <td>여자</td>\n",
       "      <td>계</td>\n",
       "      <td>남자</td>\n",
       "      <td>여자</td>\n",
       "      <td>계</td>\n",
       "      <td>남자</td>\n",
       "      <td>여자</td>\n",
       "      <td>세대당인구</td>\n",
       "      <td>65세이상고령자</td>\n",
       "    </tr>\n",
       "    <tr>\n",
       "      <th>2</th>\n",
       "      <td>2017.1/4</td>\n",
       "      <td>합계</td>\n",
       "      <td>4202888</td>\n",
       "      <td>10197604</td>\n",
       "      <td>5000005</td>\n",
       "      <td>5197599</td>\n",
       "      <td>9926968</td>\n",
       "      <td>4871560</td>\n",
       "      <td>5055408</td>\n",
       "      <td>270636</td>\n",
       "      <td>128445</td>\n",
       "      <td>142191</td>\n",
       "      <td>2.36</td>\n",
       "      <td>1321458</td>\n",
       "    </tr>\n",
       "    <tr>\n",
       "      <th>3</th>\n",
       "      <td>2017.1/4</td>\n",
       "      <td>종로구</td>\n",
       "      <td>72654</td>\n",
       "      <td>162820</td>\n",
       "      <td>79675</td>\n",
       "      <td>83145</td>\n",
       "      <td>153589</td>\n",
       "      <td>75611</td>\n",
       "      <td>77978</td>\n",
       "      <td>9231</td>\n",
       "      <td>4064</td>\n",
       "      <td>5167</td>\n",
       "      <td>2.11</td>\n",
       "      <td>25425</td>\n",
       "    </tr>\n",
       "    <tr>\n",
       "      <th>4</th>\n",
       "      <td>2017.1/4</td>\n",
       "      <td>중구</td>\n",
       "      <td>59481</td>\n",
       "      <td>133240</td>\n",
       "      <td>65790</td>\n",
       "      <td>67450</td>\n",
       "      <td>124312</td>\n",
       "      <td>61656</td>\n",
       "      <td>62656</td>\n",
       "      <td>8928</td>\n",
       "      <td>4134</td>\n",
       "      <td>4794</td>\n",
       "      <td>2.09</td>\n",
       "      <td>20764</td>\n",
       "    </tr>\n",
       "  </tbody>\n",
       "</table>\n",
       "</div>"
      ],
      "text/plain": [
       "         기간  자치구       세대        인구     인구.1     인구.2     인구.3     인구.4  \\\n",
       "0        기간  자치구       세대        합계       합계       합계      한국인      한국인   \n",
       "1        기간  자치구       세대         계       남자       여자        계       남자   \n",
       "2  2017.1/4   합계  4202888  10197604  5000005  5197599  9926968  4871560   \n",
       "3  2017.1/4  종로구    72654    162820    79675    83145   153589    75611   \n",
       "4  2017.1/4   중구    59481    133240    65790    67450   124312    61656   \n",
       "\n",
       "      인구.5    인구.6    인구.7    인구.8  세대당인구  65세이상고령자  \n",
       "0      한국인   등록외국인   등록외국인   등록외국인  세대당인구  65세이상고령자  \n",
       "1       여자       계      남자      여자  세대당인구  65세이상고령자  \n",
       "2  5055408  270636  128445  142191   2.36   1321458  \n",
       "3    77978    9231    4064    5167   2.11     25425  \n",
       "4    62656    8928    4134    4794   2.09     20764  "
      ]
     },
     "execution_count": 35,
     "metadata": {},
     "output_type": "execute_result"
    }
   ],
   "source": [
    "population_in_Seoul.iloc[:5]"
   ]
  },
  {
   "cell_type": "code",
   "execution_count": 36,
   "id": "5695a609-be4f-4045-a15d-79323e2b8415",
   "metadata": {},
   "outputs": [],
   "source": [
    "# 칼럼 골라내기\n",
    "# 자치구, 인구 합계, 한국인 전체, 등록외국인 전체, 65세 이상 고령자\n",
    "\n",
    "pops = population_in_Seoul.iloc[:,[1,3,6,9,13]]"
   ]
  },
  {
   "cell_type": "code",
   "execution_count": 37,
   "id": "6d27f9ae-8630-4858-b61a-3f6d324d52bb",
   "metadata": {},
   "outputs": [],
   "source": [
    "# 1~2행 삭제하기\n",
    "\n",
    "pops = pops.drop([0,1,2])\n",
    "\n",
    "# 또는 pops.iloc[3:,:]\n",
    "# 또는 population_in_Seoul.iloc[ 3:, [1,3,6, 9, 13]]"
   ]
  },
  {
   "cell_type": "code",
   "execution_count": 38,
   "id": "d7ca6a47-abb0-46d2-a30d-f554871d24ba",
   "metadata": {},
   "outputs": [],
   "source": [
    "# index 번호를 0번부터 나오도록 바꾸어 봅시다.\n",
    "\n",
    "pops.index = range(len(pops))\n",
    "\n",
    "# 또는 pops.reset_index(drop = True)"
   ]
  },
  {
   "cell_type": "code",
   "execution_count": 39,
   "id": "3436d890-26d8-41e4-b74e-9b72af626fa0",
   "metadata": {},
   "outputs": [
    {
     "data": {
      "text/html": [
       "<div>\n",
       "<style scoped>\n",
       "    .dataframe tbody tr th:only-of-type {\n",
       "        vertical-align: middle;\n",
       "    }\n",
       "\n",
       "    .dataframe tbody tr th {\n",
       "        vertical-align: top;\n",
       "    }\n",
       "\n",
       "    .dataframe thead th {\n",
       "        text-align: right;\n",
       "    }\n",
       "</style>\n",
       "<table border=\"1\" class=\"dataframe\">\n",
       "  <thead>\n",
       "    <tr style=\"text-align: right;\">\n",
       "      <th></th>\n",
       "      <th>자치구</th>\n",
       "      <th>인구</th>\n",
       "      <th>인구.3</th>\n",
       "      <th>인구.6</th>\n",
       "      <th>65세이상고령자</th>\n",
       "    </tr>\n",
       "  </thead>\n",
       "  <tbody>\n",
       "    <tr>\n",
       "      <th>0</th>\n",
       "      <td>종로구</td>\n",
       "      <td>162820</td>\n",
       "      <td>153589</td>\n",
       "      <td>9231</td>\n",
       "      <td>25425</td>\n",
       "    </tr>\n",
       "    <tr>\n",
       "      <th>1</th>\n",
       "      <td>중구</td>\n",
       "      <td>133240</td>\n",
       "      <td>124312</td>\n",
       "      <td>8928</td>\n",
       "      <td>20764</td>\n",
       "    </tr>\n",
       "    <tr>\n",
       "      <th>2</th>\n",
       "      <td>용산구</td>\n",
       "      <td>244203</td>\n",
       "      <td>229456</td>\n",
       "      <td>14747</td>\n",
       "      <td>36231</td>\n",
       "    </tr>\n",
       "    <tr>\n",
       "      <th>3</th>\n",
       "      <td>성동구</td>\n",
       "      <td>311244</td>\n",
       "      <td>303380</td>\n",
       "      <td>7864</td>\n",
       "      <td>39997</td>\n",
       "    </tr>\n",
       "    <tr>\n",
       "      <th>4</th>\n",
       "      <td>광진구</td>\n",
       "      <td>372164</td>\n",
       "      <td>357211</td>\n",
       "      <td>14953</td>\n",
       "      <td>42214</td>\n",
       "    </tr>\n",
       "  </tbody>\n",
       "</table>\n",
       "</div>"
      ],
      "text/plain": [
       "   자치구      인구    인구.3   인구.6 65세이상고령자\n",
       "0  종로구  162820  153589   9231    25425\n",
       "1   중구  133240  124312   8928    20764\n",
       "2  용산구  244203  229456  14747    36231\n",
       "3  성동구  311244  303380   7864    39997\n",
       "4  광진구  372164  357211  14953    42214"
      ]
     },
     "execution_count": 39,
     "metadata": {},
     "output_type": "execute_result"
    }
   ],
   "source": [
    "pops[:5]"
   ]
  },
  {
   "cell_type": "code",
   "execution_count": 40,
   "id": "c97757b2-077c-4b25-aed5-8144b13257f2",
   "metadata": {},
   "outputs": [],
   "source": [
    "# 구별, 인구수, 한국인, 외국인, 고령자로 칼럼 이름을 바꿔주세요.\n",
    "\n",
    "pops.columns=['구별','인구수','한국인','외국인','고령자']"
   ]
  },
  {
   "cell_type": "code",
   "execution_count": 41,
   "id": "4a46e514-4047-4861-b780-55cfe3810115",
   "metadata": {},
   "outputs": [
    {
     "data": {
      "text/html": [
       "<div>\n",
       "<style scoped>\n",
       "    .dataframe tbody tr th:only-of-type {\n",
       "        vertical-align: middle;\n",
       "    }\n",
       "\n",
       "    .dataframe tbody tr th {\n",
       "        vertical-align: top;\n",
       "    }\n",
       "\n",
       "    .dataframe thead th {\n",
       "        text-align: right;\n",
       "    }\n",
       "</style>\n",
       "<table border=\"1\" class=\"dataframe\">\n",
       "  <thead>\n",
       "    <tr style=\"text-align: right;\">\n",
       "      <th></th>\n",
       "      <th>구별</th>\n",
       "      <th>인구수</th>\n",
       "      <th>한국인</th>\n",
       "      <th>외국인</th>\n",
       "      <th>고령자</th>\n",
       "    </tr>\n",
       "  </thead>\n",
       "  <tbody>\n",
       "    <tr>\n",
       "      <th>0</th>\n",
       "      <td>종로구</td>\n",
       "      <td>162820</td>\n",
       "      <td>153589</td>\n",
       "      <td>9231</td>\n",
       "      <td>25425</td>\n",
       "    </tr>\n",
       "    <tr>\n",
       "      <th>1</th>\n",
       "      <td>중구</td>\n",
       "      <td>133240</td>\n",
       "      <td>124312</td>\n",
       "      <td>8928</td>\n",
       "      <td>20764</td>\n",
       "    </tr>\n",
       "    <tr>\n",
       "      <th>2</th>\n",
       "      <td>용산구</td>\n",
       "      <td>244203</td>\n",
       "      <td>229456</td>\n",
       "      <td>14747</td>\n",
       "      <td>36231</td>\n",
       "    </tr>\n",
       "    <tr>\n",
       "      <th>3</th>\n",
       "      <td>성동구</td>\n",
       "      <td>311244</td>\n",
       "      <td>303380</td>\n",
       "      <td>7864</td>\n",
       "      <td>39997</td>\n",
       "    </tr>\n",
       "    <tr>\n",
       "      <th>4</th>\n",
       "      <td>광진구</td>\n",
       "      <td>372164</td>\n",
       "      <td>357211</td>\n",
       "      <td>14953</td>\n",
       "      <td>42214</td>\n",
       "    </tr>\n",
       "    <tr>\n",
       "      <th>5</th>\n",
       "      <td>동대문구</td>\n",
       "      <td>369496</td>\n",
       "      <td>354079</td>\n",
       "      <td>15417</td>\n",
       "      <td>54173</td>\n",
       "    </tr>\n",
       "    <tr>\n",
       "      <th>6</th>\n",
       "      <td>중랑구</td>\n",
       "      <td>414503</td>\n",
       "      <td>409882</td>\n",
       "      <td>4621</td>\n",
       "      <td>56774</td>\n",
       "    </tr>\n",
       "    <tr>\n",
       "      <th>7</th>\n",
       "      <td>성북구</td>\n",
       "      <td>461260</td>\n",
       "      <td>449773</td>\n",
       "      <td>11487</td>\n",
       "      <td>64692</td>\n",
       "    </tr>\n",
       "    <tr>\n",
       "      <th>8</th>\n",
       "      <td>강북구</td>\n",
       "      <td>330192</td>\n",
       "      <td>326686</td>\n",
       "      <td>3506</td>\n",
       "      <td>54813</td>\n",
       "    </tr>\n",
       "    <tr>\n",
       "      <th>9</th>\n",
       "      <td>도봉구</td>\n",
       "      <td>348646</td>\n",
       "      <td>346629</td>\n",
       "      <td>2017</td>\n",
       "      <td>51312</td>\n",
       "    </tr>\n",
       "    <tr>\n",
       "      <th>10</th>\n",
       "      <td>노원구</td>\n",
       "      <td>569384</td>\n",
       "      <td>565565</td>\n",
       "      <td>3819</td>\n",
       "      <td>71941</td>\n",
       "    </tr>\n",
       "    <tr>\n",
       "      <th>11</th>\n",
       "      <td>은평구</td>\n",
       "      <td>494388</td>\n",
       "      <td>489943</td>\n",
       "      <td>4445</td>\n",
       "      <td>72334</td>\n",
       "    </tr>\n",
       "    <tr>\n",
       "      <th>12</th>\n",
       "      <td>서대문구</td>\n",
       "      <td>327163</td>\n",
       "      <td>314982</td>\n",
       "      <td>12181</td>\n",
       "      <td>48161</td>\n",
       "    </tr>\n",
       "    <tr>\n",
       "      <th>13</th>\n",
       "      <td>마포구</td>\n",
       "      <td>389649</td>\n",
       "      <td>378566</td>\n",
       "      <td>11083</td>\n",
       "      <td>48765</td>\n",
       "    </tr>\n",
       "    <tr>\n",
       "      <th>14</th>\n",
       "      <td>양천구</td>\n",
       "      <td>479978</td>\n",
       "      <td>475949</td>\n",
       "      <td>4029</td>\n",
       "      <td>52975</td>\n",
       "    </tr>\n",
       "    <tr>\n",
       "      <th>15</th>\n",
       "      <td>강서구</td>\n",
       "      <td>603772</td>\n",
       "      <td>597248</td>\n",
       "      <td>6524</td>\n",
       "      <td>72548</td>\n",
       "    </tr>\n",
       "    <tr>\n",
       "      <th>16</th>\n",
       "      <td>구로구</td>\n",
       "      <td>447874</td>\n",
       "      <td>416487</td>\n",
       "      <td>31387</td>\n",
       "      <td>56833</td>\n",
       "    </tr>\n",
       "    <tr>\n",
       "      <th>17</th>\n",
       "      <td>금천구</td>\n",
       "      <td>255082</td>\n",
       "      <td>236353</td>\n",
       "      <td>18729</td>\n",
       "      <td>32970</td>\n",
       "    </tr>\n",
       "    <tr>\n",
       "      <th>18</th>\n",
       "      <td>영등포구</td>\n",
       "      <td>402985</td>\n",
       "      <td>368072</td>\n",
       "      <td>34913</td>\n",
       "      <td>52413</td>\n",
       "    </tr>\n",
       "    <tr>\n",
       "      <th>19</th>\n",
       "      <td>동작구</td>\n",
       "      <td>412520</td>\n",
       "      <td>400456</td>\n",
       "      <td>12064</td>\n",
       "      <td>56013</td>\n",
       "    </tr>\n",
       "    <tr>\n",
       "      <th>20</th>\n",
       "      <td>관악구</td>\n",
       "      <td>525515</td>\n",
       "      <td>507203</td>\n",
       "      <td>18312</td>\n",
       "      <td>68082</td>\n",
       "    </tr>\n",
       "    <tr>\n",
       "      <th>21</th>\n",
       "      <td>서초구</td>\n",
       "      <td>450310</td>\n",
       "      <td>445994</td>\n",
       "      <td>4316</td>\n",
       "      <td>51733</td>\n",
       "    </tr>\n",
       "    <tr>\n",
       "      <th>22</th>\n",
       "      <td>강남구</td>\n",
       "      <td>570500</td>\n",
       "      <td>565550</td>\n",
       "      <td>4950</td>\n",
       "      <td>63167</td>\n",
       "    </tr>\n",
       "    <tr>\n",
       "      <th>23</th>\n",
       "      <td>송파구</td>\n",
       "      <td>667483</td>\n",
       "      <td>660584</td>\n",
       "      <td>6899</td>\n",
       "      <td>72506</td>\n",
       "    </tr>\n",
       "    <tr>\n",
       "      <th>24</th>\n",
       "      <td>강동구</td>\n",
       "      <td>453233</td>\n",
       "      <td>449019</td>\n",
       "      <td>4214</td>\n",
       "      <td>54622</td>\n",
       "    </tr>\n",
       "    <tr>\n",
       "      <th>25</th>\n",
       "      <td>NaN</td>\n",
       "      <td>NaN</td>\n",
       "      <td>NaN</td>\n",
       "      <td>NaN</td>\n",
       "      <td>NaN</td>\n",
       "    </tr>\n",
       "  </tbody>\n",
       "</table>\n",
       "</div>"
      ],
      "text/plain": [
       "      구별     인구수     한국인    외국인    고령자\n",
       "0    종로구  162820  153589   9231  25425\n",
       "1     중구  133240  124312   8928  20764\n",
       "2    용산구  244203  229456  14747  36231\n",
       "3    성동구  311244  303380   7864  39997\n",
       "4    광진구  372164  357211  14953  42214\n",
       "5   동대문구  369496  354079  15417  54173\n",
       "6    중랑구  414503  409882   4621  56774\n",
       "7    성북구  461260  449773  11487  64692\n",
       "8    강북구  330192  326686   3506  54813\n",
       "9    도봉구  348646  346629   2017  51312\n",
       "10   노원구  569384  565565   3819  71941\n",
       "11   은평구  494388  489943   4445  72334\n",
       "12  서대문구  327163  314982  12181  48161\n",
       "13   마포구  389649  378566  11083  48765\n",
       "14   양천구  479978  475949   4029  52975\n",
       "15   강서구  603772  597248   6524  72548\n",
       "16   구로구  447874  416487  31387  56833\n",
       "17   금천구  255082  236353  18729  32970\n",
       "18  영등포구  402985  368072  34913  52413\n",
       "19   동작구  412520  400456  12064  56013\n",
       "20   관악구  525515  507203  18312  68082\n",
       "21   서초구  450310  445994   4316  51733\n",
       "22   강남구  570500  565550   4950  63167\n",
       "23   송파구  667483  660584   6899  72506\n",
       "24   강동구  453233  449019   4214  54622\n",
       "25   NaN     NaN     NaN    NaN    NaN"
      ]
     },
     "execution_count": 41,
     "metadata": {},
     "output_type": "execute_result"
    }
   ],
   "source": [
    "pops"
   ]
  },
  {
   "cell_type": "markdown",
   "id": "47b0b9f8-60b6-4c6a-891e-f63339d67e2d",
   "metadata": {},
   "source": [
    "## 원하는 자료 추출"
   ]
  },
  {
   "cell_type": "code",
   "execution_count": 42,
   "id": "0d6e0541-a3f5-412d-9be7-bef306f21751",
   "metadata": {},
   "outputs": [
    {
     "data": {
      "text/html": [
       "<div>\n",
       "<style scoped>\n",
       "    .dataframe tbody tr th:only-of-type {\n",
       "        vertical-align: middle;\n",
       "    }\n",
       "\n",
       "    .dataframe tbody tr th {\n",
       "        vertical-align: top;\n",
       "    }\n",
       "\n",
       "    .dataframe thead th {\n",
       "        text-align: right;\n",
       "    }\n",
       "</style>\n",
       "<table border=\"1\" class=\"dataframe\">\n",
       "  <thead>\n",
       "    <tr style=\"text-align: right;\">\n",
       "      <th></th>\n",
       "      <th>구별</th>\n",
       "      <th>인구수</th>\n",
       "      <th>한국인</th>\n",
       "      <th>외국인</th>\n",
       "      <th>고령자</th>\n",
       "    </tr>\n",
       "  </thead>\n",
       "  <tbody>\n",
       "    <tr>\n",
       "      <th>23</th>\n",
       "      <td>송파구</td>\n",
       "      <td>667483</td>\n",
       "      <td>660584</td>\n",
       "      <td>6899</td>\n",
       "      <td>72506</td>\n",
       "    </tr>\n",
       "    <tr>\n",
       "      <th>15</th>\n",
       "      <td>강서구</td>\n",
       "      <td>603772</td>\n",
       "      <td>597248</td>\n",
       "      <td>6524</td>\n",
       "      <td>72548</td>\n",
       "    </tr>\n",
       "    <tr>\n",
       "      <th>22</th>\n",
       "      <td>강남구</td>\n",
       "      <td>570500</td>\n",
       "      <td>565550</td>\n",
       "      <td>4950</td>\n",
       "      <td>63167</td>\n",
       "    </tr>\n",
       "    <tr>\n",
       "      <th>10</th>\n",
       "      <td>노원구</td>\n",
       "      <td>569384</td>\n",
       "      <td>565565</td>\n",
       "      <td>3819</td>\n",
       "      <td>71941</td>\n",
       "    </tr>\n",
       "    <tr>\n",
       "      <th>20</th>\n",
       "      <td>관악구</td>\n",
       "      <td>525515</td>\n",
       "      <td>507203</td>\n",
       "      <td>18312</td>\n",
       "      <td>68082</td>\n",
       "    </tr>\n",
       "    <tr>\n",
       "      <th>11</th>\n",
       "      <td>은평구</td>\n",
       "      <td>494388</td>\n",
       "      <td>489943</td>\n",
       "      <td>4445</td>\n",
       "      <td>72334</td>\n",
       "    </tr>\n",
       "    <tr>\n",
       "      <th>14</th>\n",
       "      <td>양천구</td>\n",
       "      <td>479978</td>\n",
       "      <td>475949</td>\n",
       "      <td>4029</td>\n",
       "      <td>52975</td>\n",
       "    </tr>\n",
       "    <tr>\n",
       "      <th>7</th>\n",
       "      <td>성북구</td>\n",
       "      <td>461260</td>\n",
       "      <td>449773</td>\n",
       "      <td>11487</td>\n",
       "      <td>64692</td>\n",
       "    </tr>\n",
       "    <tr>\n",
       "      <th>24</th>\n",
       "      <td>강동구</td>\n",
       "      <td>453233</td>\n",
       "      <td>449019</td>\n",
       "      <td>4214</td>\n",
       "      <td>54622</td>\n",
       "    </tr>\n",
       "    <tr>\n",
       "      <th>21</th>\n",
       "      <td>서초구</td>\n",
       "      <td>450310</td>\n",
       "      <td>445994</td>\n",
       "      <td>4316</td>\n",
       "      <td>51733</td>\n",
       "    </tr>\n",
       "    <tr>\n",
       "      <th>16</th>\n",
       "      <td>구로구</td>\n",
       "      <td>447874</td>\n",
       "      <td>416487</td>\n",
       "      <td>31387</td>\n",
       "      <td>56833</td>\n",
       "    </tr>\n",
       "    <tr>\n",
       "      <th>6</th>\n",
       "      <td>중랑구</td>\n",
       "      <td>414503</td>\n",
       "      <td>409882</td>\n",
       "      <td>4621</td>\n",
       "      <td>56774</td>\n",
       "    </tr>\n",
       "    <tr>\n",
       "      <th>19</th>\n",
       "      <td>동작구</td>\n",
       "      <td>412520</td>\n",
       "      <td>400456</td>\n",
       "      <td>12064</td>\n",
       "      <td>56013</td>\n",
       "    </tr>\n",
       "    <tr>\n",
       "      <th>18</th>\n",
       "      <td>영등포구</td>\n",
       "      <td>402985</td>\n",
       "      <td>368072</td>\n",
       "      <td>34913</td>\n",
       "      <td>52413</td>\n",
       "    </tr>\n",
       "    <tr>\n",
       "      <th>13</th>\n",
       "      <td>마포구</td>\n",
       "      <td>389649</td>\n",
       "      <td>378566</td>\n",
       "      <td>11083</td>\n",
       "      <td>48765</td>\n",
       "    </tr>\n",
       "    <tr>\n",
       "      <th>4</th>\n",
       "      <td>광진구</td>\n",
       "      <td>372164</td>\n",
       "      <td>357211</td>\n",
       "      <td>14953</td>\n",
       "      <td>42214</td>\n",
       "    </tr>\n",
       "    <tr>\n",
       "      <th>5</th>\n",
       "      <td>동대문구</td>\n",
       "      <td>369496</td>\n",
       "      <td>354079</td>\n",
       "      <td>15417</td>\n",
       "      <td>54173</td>\n",
       "    </tr>\n",
       "    <tr>\n",
       "      <th>9</th>\n",
       "      <td>도봉구</td>\n",
       "      <td>348646</td>\n",
       "      <td>346629</td>\n",
       "      <td>2017</td>\n",
       "      <td>51312</td>\n",
       "    </tr>\n",
       "    <tr>\n",
       "      <th>8</th>\n",
       "      <td>강북구</td>\n",
       "      <td>330192</td>\n",
       "      <td>326686</td>\n",
       "      <td>3506</td>\n",
       "      <td>54813</td>\n",
       "    </tr>\n",
       "    <tr>\n",
       "      <th>12</th>\n",
       "      <td>서대문구</td>\n",
       "      <td>327163</td>\n",
       "      <td>314982</td>\n",
       "      <td>12181</td>\n",
       "      <td>48161</td>\n",
       "    </tr>\n",
       "    <tr>\n",
       "      <th>3</th>\n",
       "      <td>성동구</td>\n",
       "      <td>311244</td>\n",
       "      <td>303380</td>\n",
       "      <td>7864</td>\n",
       "      <td>39997</td>\n",
       "    </tr>\n",
       "    <tr>\n",
       "      <th>17</th>\n",
       "      <td>금천구</td>\n",
       "      <td>255082</td>\n",
       "      <td>236353</td>\n",
       "      <td>18729</td>\n",
       "      <td>32970</td>\n",
       "    </tr>\n",
       "    <tr>\n",
       "      <th>2</th>\n",
       "      <td>용산구</td>\n",
       "      <td>244203</td>\n",
       "      <td>229456</td>\n",
       "      <td>14747</td>\n",
       "      <td>36231</td>\n",
       "    </tr>\n",
       "    <tr>\n",
       "      <th>0</th>\n",
       "      <td>종로구</td>\n",
       "      <td>162820</td>\n",
       "      <td>153589</td>\n",
       "      <td>9231</td>\n",
       "      <td>25425</td>\n",
       "    </tr>\n",
       "    <tr>\n",
       "      <th>1</th>\n",
       "      <td>중구</td>\n",
       "      <td>133240</td>\n",
       "      <td>124312</td>\n",
       "      <td>8928</td>\n",
       "      <td>20764</td>\n",
       "    </tr>\n",
       "    <tr>\n",
       "      <th>25</th>\n",
       "      <td>NaN</td>\n",
       "      <td>NaN</td>\n",
       "      <td>NaN</td>\n",
       "      <td>NaN</td>\n",
       "      <td>NaN</td>\n",
       "    </tr>\n",
       "  </tbody>\n",
       "</table>\n",
       "</div>"
      ],
      "text/plain": [
       "      구별     인구수     한국인    외국인    고령자\n",
       "23   송파구  667483  660584   6899  72506\n",
       "15   강서구  603772  597248   6524  72548\n",
       "22   강남구  570500  565550   4950  63167\n",
       "10   노원구  569384  565565   3819  71941\n",
       "20   관악구  525515  507203  18312  68082\n",
       "11   은평구  494388  489943   4445  72334\n",
       "14   양천구  479978  475949   4029  52975\n",
       "7    성북구  461260  449773  11487  64692\n",
       "24   강동구  453233  449019   4214  54622\n",
       "21   서초구  450310  445994   4316  51733\n",
       "16   구로구  447874  416487  31387  56833\n",
       "6    중랑구  414503  409882   4621  56774\n",
       "19   동작구  412520  400456  12064  56013\n",
       "18  영등포구  402985  368072  34913  52413\n",
       "13   마포구  389649  378566  11083  48765\n",
       "4    광진구  372164  357211  14953  42214\n",
       "5   동대문구  369496  354079  15417  54173\n",
       "9    도봉구  348646  346629   2017  51312\n",
       "8    강북구  330192  326686   3506  54813\n",
       "12  서대문구  327163  314982  12181  48161\n",
       "3    성동구  311244  303380   7864  39997\n",
       "17   금천구  255082  236353  18729  32970\n",
       "2    용산구  244203  229456  14747  36231\n",
       "0    종로구  162820  153589   9231  25425\n",
       "1     중구  133240  124312   8928  20764\n",
       "25   NaN     NaN     NaN    NaN    NaN"
      ]
     },
     "execution_count": 42,
     "metadata": {},
     "output_type": "execute_result"
    }
   ],
   "source": [
    "# 인구수가 3번째 많은 구는?\n",
    "\n",
    "pops.sort_values(by='인구수', ascending = False)\n",
    "\n",
    "# 강남구"
   ]
  },
  {
   "cell_type": "markdown",
   "id": "77c973c2-4c58-4719-839b-8392e3fa55ce",
   "metadata": {},
   "source": [
    "#### ※ NaN 값 지우기"
   ]
  },
  {
   "cell_type": "code",
   "execution_count": 44,
   "id": "8360b3e9-ab04-462d-a8a6-0dd6344e3925",
   "metadata": {},
   "outputs": [],
   "source": [
    "# 마지막 행의 NaN 을 지워주세요.\n",
    "\n",
    "pops = pops.dropna()\n",
    "\n",
    "# 또는 pops.drop([25]), pops.iloc[:-1,:]"
   ]
  },
  {
   "cell_type": "code",
   "execution_count": 45,
   "id": "db184d72-233b-48b5-a887-bd275cc0fa29",
   "metadata": {},
   "outputs": [
    {
     "data": {
      "text/html": [
       "<div>\n",
       "<style scoped>\n",
       "    .dataframe tbody tr th:only-of-type {\n",
       "        vertical-align: middle;\n",
       "    }\n",
       "\n",
       "    .dataframe tbody tr th {\n",
       "        vertical-align: top;\n",
       "    }\n",
       "\n",
       "    .dataframe thead th {\n",
       "        text-align: right;\n",
       "    }\n",
       "</style>\n",
       "<table border=\"1\" class=\"dataframe\">\n",
       "  <thead>\n",
       "    <tr style=\"text-align: right;\">\n",
       "      <th></th>\n",
       "      <th>구별</th>\n",
       "      <th>인구수</th>\n",
       "      <th>한국인</th>\n",
       "      <th>외국인</th>\n",
       "      <th>고령자</th>\n",
       "      <th>외국인비율</th>\n",
       "      <th>고령자비율</th>\n",
       "    </tr>\n",
       "  </thead>\n",
       "  <tbody>\n",
       "    <tr>\n",
       "      <th>0</th>\n",
       "      <td>종로구</td>\n",
       "      <td>162820</td>\n",
       "      <td>153589</td>\n",
       "      <td>9231</td>\n",
       "      <td>25425</td>\n",
       "      <td>5.669451</td>\n",
       "      <td>15.615404</td>\n",
       "    </tr>\n",
       "    <tr>\n",
       "      <th>1</th>\n",
       "      <td>중구</td>\n",
       "      <td>133240</td>\n",
       "      <td>124312</td>\n",
       "      <td>8928</td>\n",
       "      <td>20764</td>\n",
       "      <td>6.70069</td>\n",
       "      <td>15.583909</td>\n",
       "    </tr>\n",
       "    <tr>\n",
       "      <th>2</th>\n",
       "      <td>용산구</td>\n",
       "      <td>244203</td>\n",
       "      <td>229456</td>\n",
       "      <td>14747</td>\n",
       "      <td>36231</td>\n",
       "      <td>6.038828</td>\n",
       "      <td>14.836427</td>\n",
       "    </tr>\n",
       "    <tr>\n",
       "      <th>3</th>\n",
       "      <td>성동구</td>\n",
       "      <td>311244</td>\n",
       "      <td>303380</td>\n",
       "      <td>7864</td>\n",
       "      <td>39997</td>\n",
       "      <td>2.526635</td>\n",
       "      <td>12.850689</td>\n",
       "    </tr>\n",
       "    <tr>\n",
       "      <th>4</th>\n",
       "      <td>광진구</td>\n",
       "      <td>372164</td>\n",
       "      <td>357211</td>\n",
       "      <td>14953</td>\n",
       "      <td>42214</td>\n",
       "      <td>4.017852</td>\n",
       "      <td>11.342849</td>\n",
       "    </tr>\n",
       "    <tr>\n",
       "      <th>5</th>\n",
       "      <td>동대문구</td>\n",
       "      <td>369496</td>\n",
       "      <td>354079</td>\n",
       "      <td>15417</td>\n",
       "      <td>54173</td>\n",
       "      <td>4.17244</td>\n",
       "      <td>14.661322</td>\n",
       "    </tr>\n",
       "    <tr>\n",
       "      <th>6</th>\n",
       "      <td>중랑구</td>\n",
       "      <td>414503</td>\n",
       "      <td>409882</td>\n",
       "      <td>4621</td>\n",
       "      <td>56774</td>\n",
       "      <td>1.114829</td>\n",
       "      <td>13.696885</td>\n",
       "    </tr>\n",
       "    <tr>\n",
       "      <th>7</th>\n",
       "      <td>성북구</td>\n",
       "      <td>461260</td>\n",
       "      <td>449773</td>\n",
       "      <td>11487</td>\n",
       "      <td>64692</td>\n",
       "      <td>2.490353</td>\n",
       "      <td>14.025062</td>\n",
       "    </tr>\n",
       "    <tr>\n",
       "      <th>8</th>\n",
       "      <td>강북구</td>\n",
       "      <td>330192</td>\n",
       "      <td>326686</td>\n",
       "      <td>3506</td>\n",
       "      <td>54813</td>\n",
       "      <td>1.061806</td>\n",
       "      <td>16.600342</td>\n",
       "    </tr>\n",
       "    <tr>\n",
       "      <th>9</th>\n",
       "      <td>도봉구</td>\n",
       "      <td>348646</td>\n",
       "      <td>346629</td>\n",
       "      <td>2017</td>\n",
       "      <td>51312</td>\n",
       "      <td>0.578524</td>\n",
       "      <td>14.717507</td>\n",
       "    </tr>\n",
       "    <tr>\n",
       "      <th>10</th>\n",
       "      <td>노원구</td>\n",
       "      <td>569384</td>\n",
       "      <td>565565</td>\n",
       "      <td>3819</td>\n",
       "      <td>71941</td>\n",
       "      <td>0.670725</td>\n",
       "      <td>12.634883</td>\n",
       "    </tr>\n",
       "    <tr>\n",
       "      <th>11</th>\n",
       "      <td>은평구</td>\n",
       "      <td>494388</td>\n",
       "      <td>489943</td>\n",
       "      <td>4445</td>\n",
       "      <td>72334</td>\n",
       "      <td>0.899091</td>\n",
       "      <td>14.631019</td>\n",
       "    </tr>\n",
       "    <tr>\n",
       "      <th>12</th>\n",
       "      <td>서대문구</td>\n",
       "      <td>327163</td>\n",
       "      <td>314982</td>\n",
       "      <td>12181</td>\n",
       "      <td>48161</td>\n",
       "      <td>3.723221</td>\n",
       "      <td>14.720797</td>\n",
       "    </tr>\n",
       "    <tr>\n",
       "      <th>13</th>\n",
       "      <td>마포구</td>\n",
       "      <td>389649</td>\n",
       "      <td>378566</td>\n",
       "      <td>11083</td>\n",
       "      <td>48765</td>\n",
       "      <td>2.844355</td>\n",
       "      <td>12.51511</td>\n",
       "    </tr>\n",
       "    <tr>\n",
       "      <th>14</th>\n",
       "      <td>양천구</td>\n",
       "      <td>479978</td>\n",
       "      <td>475949</td>\n",
       "      <td>4029</td>\n",
       "      <td>52975</td>\n",
       "      <td>0.839413</td>\n",
       "      <td>11.036964</td>\n",
       "    </tr>\n",
       "    <tr>\n",
       "      <th>15</th>\n",
       "      <td>강서구</td>\n",
       "      <td>603772</td>\n",
       "      <td>597248</td>\n",
       "      <td>6524</td>\n",
       "      <td>72548</td>\n",
       "      <td>1.08054</td>\n",
       "      <td>12.015794</td>\n",
       "    </tr>\n",
       "    <tr>\n",
       "      <th>16</th>\n",
       "      <td>구로구</td>\n",
       "      <td>447874</td>\n",
       "      <td>416487</td>\n",
       "      <td>31387</td>\n",
       "      <td>56833</td>\n",
       "      <td>7.007998</td>\n",
       "      <td>12.689506</td>\n",
       "    </tr>\n",
       "    <tr>\n",
       "      <th>17</th>\n",
       "      <td>금천구</td>\n",
       "      <td>255082</td>\n",
       "      <td>236353</td>\n",
       "      <td>18729</td>\n",
       "      <td>32970</td>\n",
       "      <td>7.342345</td>\n",
       "      <td>12.925255</td>\n",
       "    </tr>\n",
       "    <tr>\n",
       "      <th>18</th>\n",
       "      <td>영등포구</td>\n",
       "      <td>402985</td>\n",
       "      <td>368072</td>\n",
       "      <td>34913</td>\n",
       "      <td>52413</td>\n",
       "      <td>8.663598</td>\n",
       "      <td>13.006191</td>\n",
       "    </tr>\n",
       "    <tr>\n",
       "      <th>19</th>\n",
       "      <td>동작구</td>\n",
       "      <td>412520</td>\n",
       "      <td>400456</td>\n",
       "      <td>12064</td>\n",
       "      <td>56013</td>\n",
       "      <td>2.924464</td>\n",
       "      <td>13.578251</td>\n",
       "    </tr>\n",
       "    <tr>\n",
       "      <th>20</th>\n",
       "      <td>관악구</td>\n",
       "      <td>525515</td>\n",
       "      <td>507203</td>\n",
       "      <td>18312</td>\n",
       "      <td>68082</td>\n",
       "      <td>3.484582</td>\n",
       "      <td>12.955291</td>\n",
       "    </tr>\n",
       "    <tr>\n",
       "      <th>21</th>\n",
       "      <td>서초구</td>\n",
       "      <td>450310</td>\n",
       "      <td>445994</td>\n",
       "      <td>4316</td>\n",
       "      <td>51733</td>\n",
       "      <td>0.958451</td>\n",
       "      <td>11.488308</td>\n",
       "    </tr>\n",
       "    <tr>\n",
       "      <th>22</th>\n",
       "      <td>강남구</td>\n",
       "      <td>570500</td>\n",
       "      <td>565550</td>\n",
       "      <td>4950</td>\n",
       "      <td>63167</td>\n",
       "      <td>0.86766</td>\n",
       "      <td>11.072217</td>\n",
       "    </tr>\n",
       "    <tr>\n",
       "      <th>23</th>\n",
       "      <td>송파구</td>\n",
       "      <td>667483</td>\n",
       "      <td>660584</td>\n",
       "      <td>6899</td>\n",
       "      <td>72506</td>\n",
       "      <td>1.033584</td>\n",
       "      <td>10.862599</td>\n",
       "    </tr>\n",
       "    <tr>\n",
       "      <th>24</th>\n",
       "      <td>강동구</td>\n",
       "      <td>453233</td>\n",
       "      <td>449019</td>\n",
       "      <td>4214</td>\n",
       "      <td>54622</td>\n",
       "      <td>0.929765</td>\n",
       "      <td>12.051638</td>\n",
       "    </tr>\n",
       "  </tbody>\n",
       "</table>\n",
       "</div>"
      ],
      "text/plain": [
       "      구별     인구수     한국인    외국인    고령자     외국인비율      고령자비율\n",
       "0    종로구  162820  153589   9231  25425  5.669451  15.615404\n",
       "1     중구  133240  124312   8928  20764   6.70069  15.583909\n",
       "2    용산구  244203  229456  14747  36231  6.038828  14.836427\n",
       "3    성동구  311244  303380   7864  39997  2.526635  12.850689\n",
       "4    광진구  372164  357211  14953  42214  4.017852  11.342849\n",
       "5   동대문구  369496  354079  15417  54173   4.17244  14.661322\n",
       "6    중랑구  414503  409882   4621  56774  1.114829  13.696885\n",
       "7    성북구  461260  449773  11487  64692  2.490353  14.025062\n",
       "8    강북구  330192  326686   3506  54813  1.061806  16.600342\n",
       "9    도봉구  348646  346629   2017  51312  0.578524  14.717507\n",
       "10   노원구  569384  565565   3819  71941  0.670725  12.634883\n",
       "11   은평구  494388  489943   4445  72334  0.899091  14.631019\n",
       "12  서대문구  327163  314982  12181  48161  3.723221  14.720797\n",
       "13   마포구  389649  378566  11083  48765  2.844355   12.51511\n",
       "14   양천구  479978  475949   4029  52975  0.839413  11.036964\n",
       "15   강서구  603772  597248   6524  72548   1.08054  12.015794\n",
       "16   구로구  447874  416487  31387  56833  7.007998  12.689506\n",
       "17   금천구  255082  236353  18729  32970  7.342345  12.925255\n",
       "18  영등포구  402985  368072  34913  52413  8.663598  13.006191\n",
       "19   동작구  412520  400456  12064  56013  2.924464  13.578251\n",
       "20   관악구  525515  507203  18312  68082  3.484582  12.955291\n",
       "21   서초구  450310  445994   4316  51733  0.958451  11.488308\n",
       "22   강남구  570500  565550   4950  63167   0.86766  11.072217\n",
       "23   송파구  667483  660584   6899  72506  1.033584  10.862599\n",
       "24   강동구  453233  449019   4214  54622  0.929765  12.051638"
      ]
     },
     "execution_count": 45,
     "metadata": {},
     "output_type": "execute_result"
    }
   ],
   "source": [
    "# 구별 인구수 대비 '외국인비율', '고령자비율' 2가지를 새로운 칼럼으로 만들어 주세요.\n",
    "\n",
    "pops['외국인비율'] = pops['외국인']/pops['인구수']*100\n",
    "pops['고령자비율'] = pops['고령자']/pops['인구수']*100\n",
    "pops"
   ]
  },
  {
   "cell_type": "markdown",
   "id": "f6fddcb3-36c6-4316-88e8-615347e5cdf0",
   "metadata": {},
   "source": [
    "## 그래프 그리기"
   ]
  },
  {
   "cell_type": "code",
   "execution_count": 46,
   "id": "730731ec-a145-44ed-a62d-1c35b4bd3e87",
   "metadata": {},
   "outputs": [
    {
     "data": {
      "text/plain": [
       "(array([ 0,  1,  2,  3,  4,  5,  6,  7,  8,  9, 10, 11, 12, 13, 14, 15, 16,\n",
       "        17, 18, 19, 20, 21, 22, 23, 24]),\n",
       " [Text(0, 0, '종로구'),\n",
       "  Text(1, 0, '중구'),\n",
       "  Text(2, 0, '용산구'),\n",
       "  Text(3, 0, '성동구'),\n",
       "  Text(4, 0, '광진구'),\n",
       "  Text(5, 0, '동대문구'),\n",
       "  Text(6, 0, '중랑구'),\n",
       "  Text(7, 0, '성북구'),\n",
       "  Text(8, 0, '강북구'),\n",
       "  Text(9, 0, '도봉구'),\n",
       "  Text(10, 0, '노원구'),\n",
       "  Text(11, 0, '은평구'),\n",
       "  Text(12, 0, '서대문구'),\n",
       "  Text(13, 0, '마포구'),\n",
       "  Text(14, 0, '양천구'),\n",
       "  Text(15, 0, '강서구'),\n",
       "  Text(16, 0, '구로구'),\n",
       "  Text(17, 0, '금천구'),\n",
       "  Text(18, 0, '영등포구'),\n",
       "  Text(19, 0, '동작구'),\n",
       "  Text(20, 0, '관악구'),\n",
       "  Text(21, 0, '서초구'),\n",
       "  Text(22, 0, '강남구'),\n",
       "  Text(23, 0, '송파구'),\n",
       "  Text(24, 0, '강동구')])"
      ]
     },
     "execution_count": 46,
     "metadata": {},
     "output_type": "execute_result"
    },
    {
     "data": {
      "image/png": "[encoded data removed]",
      "text/plain": [
       "<Figure size 432x288 with 1 Axes>"
      ]
     },
     "metadata": {
      "needs_background": "light"
     },
     "output_type": "display_data"
    }
   ],
   "source": [
    "# 구별 인구수를 막대그래프로 나타내주세요.\n",
    "\n",
    "import matplotlib.pyplot as plt\n",
    "\n",
    "pops.plot(kind = 'bar', x='구별',y='인구수')\n",
    "plt.xticks(rotation=55) # 글씨 기울임"
   ]
  },
  {
   "cell_type": "code",
   "execution_count": 47,
   "id": "04d39a72-0428-41d2-9dc9-26eb36ac144f",
   "metadata": {},
   "outputs": [
    {
     "data": {
      "text/plain": [
       "<AxesSubplot:xlabel='구별'>"
      ]
     },
     "execution_count": 47,
     "metadata": {},
     "output_type": "execute_result"
    },
    {
     "data": {
      "image/png": "[encoded data removed]",
      "text/plain": [
       "<Figure size 432x288 with 1 Axes>"
      ]
     },
     "metadata": {
      "needs_background": "light"
     },
     "output_type": "display_data"
    }
   ],
   "source": [
    "pops.plot.bar(x='구별',y='인구수')"
   ]
  },
  {
   "cell_type": "code",
   "execution_count": 48,
   "id": "764d6f35-0057-432a-ba18-ab1855fd77c6",
   "metadata": {},
   "outputs": [
    {
     "data": {
      "text/plain": [
       "(array([ 0,  1,  2,  3,  4,  5,  6,  7,  8,  9, 10, 11, 12, 13, 14, 15, 16,\n",
       "        17, 18, 19, 20, 21, 22, 23, 24]),\n",
       " [Text(0, 0, '종로구'),\n",
       "  Text(1, 0, '중구'),\n",
       "  Text(2, 0, '용산구'),\n",
       "  Text(3, 0, '성동구'),\n",
       "  Text(4, 0, '광진구'),\n",
       "  Text(5, 0, '동대문구'),\n",
       "  Text(6, 0, '중랑구'),\n",
       "  Text(7, 0, '성북구'),\n",
       "  Text(8, 0, '강북구'),\n",
       "  Text(9, 0, '도봉구'),\n",
       "  Text(10, 0, '노원구'),\n",
       "  Text(11, 0, '은평구'),\n",
       "  Text(12, 0, '서대문구'),\n",
       "  Text(13, 0, '마포구'),\n",
       "  Text(14, 0, '양천구'),\n",
       "  Text(15, 0, '강서구'),\n",
       "  Text(16, 0, '구로구'),\n",
       "  Text(17, 0, '금천구'),\n",
       "  Text(18, 0, '영등포구'),\n",
       "  Text(19, 0, '동작구'),\n",
       "  Text(20, 0, '관악구'),\n",
       "  Text(21, 0, '서초구'),\n",
       "  Text(22, 0, '강남구'),\n",
       "  Text(23, 0, '송파구'),\n",
       "  Text(24, 0, '강동구')])"
      ]
     },
     "execution_count": 48,
     "metadata": {},
     "output_type": "execute_result"
    },
    {
     "data": {
      "image/png": "[encoded data removed]",
      "text/plain": [
       "<Figure size 432x288 with 1 Axes>"
      ]
     },
     "metadata": {
      "needs_background": "light"
     },
     "output_type": "display_data"
    }
   ],
   "source": [
    "import seaborn as sns\n",
    "\n",
    "sns.barplot(data=pops, x='구별', y='인구수')\n",
    "plt.xticks(rotation=55)"
   ]
  },
  {
   "cell_type": "markdown",
   "id": "1f5d5206-de73-4418-a548-b2ebbe105caf",
   "metadata": {},
   "source": [
    "## 상관계수 구하기"
   ]
  },
  {
   "cell_type": "code",
   "execution_count": 52,
   "id": "3e1cda42-e66f-4a87-9584-01c5a824d54d",
   "metadata": {},
   "outputs": [
    {
     "name": "stdout",
     "output_type": "stream",
     "text": [
      "<class 'pandas.core.frame.DataFrame'>\n",
      "Int64Index: 25 entries, 0 to 24\n",
      "Data columns (total 7 columns):\n",
      " #   Column  Non-Null Count  Dtype \n",
      "---  ------  --------------  ----- \n",
      " 0   구별      25 non-null     object\n",
      " 1   인구수     25 non-null     object\n",
      " 2   한국인     25 non-null     object\n",
      " 3   외국인     25 non-null     object\n",
      " 4   고령자     25 non-null     object\n",
      " 5   외국인비율   25 non-null     object\n",
      " 6   고령자비율   25 non-null     object\n",
      "dtypes: object(7)\n",
      "memory usage: 2.1+ KB\n"
     ]
    }
   ],
   "source": [
    "pops.info()\n",
    "\n",
    "# pandas에서 dtype object는 문자형!\n",
    "# 상관계수는 숫자형만 구할 수 있으니까 int로 바꿔줘야함"
   ]
  },
  {
   "cell_type": "code",
   "execution_count": 53,
   "id": "67d9e861-4352-4f39-9aef-a46437bf55d3",
   "metadata": {},
   "outputs": [
    {
     "data": {
      "text/html": [
       "<div>\n",
       "<style scoped>\n",
       "    .dataframe tbody tr th:only-of-type {\n",
       "        vertical-align: middle;\n",
       "    }\n",
       "\n",
       "    .dataframe tbody tr th {\n",
       "        vertical-align: top;\n",
       "    }\n",
       "\n",
       "    .dataframe thead th {\n",
       "        text-align: right;\n",
       "    }\n",
       "</style>\n",
       "<table border=\"1\" class=\"dataframe\">\n",
       "  <thead>\n",
       "    <tr style=\"text-align: right;\">\n",
       "      <th></th>\n",
       "      <th>한국인</th>\n",
       "      <th>고령자</th>\n",
       "    </tr>\n",
       "  </thead>\n",
       "  <tbody>\n",
       "    <tr>\n",
       "      <th>한국인</th>\n",
       "      <td>1.000000</td>\n",
       "      <td>0.931636</td>\n",
       "    </tr>\n",
       "    <tr>\n",
       "      <th>고령자</th>\n",
       "      <td>0.931636</td>\n",
       "      <td>1.000000</td>\n",
       "    </tr>\n",
       "  </tbody>\n",
       "</table>\n",
       "</div>"
      ],
      "text/plain": [
       "          한국인       고령자\n",
       "한국인  1.000000  0.931636\n",
       "고령자  0.931636  1.000000"
      ]
     },
     "execution_count": 53,
     "metadata": {},
     "output_type": "execute_result"
    }
   ],
   "source": [
    "# 한국인과 고령자의 상관계수는?\n",
    "\n",
    "pops[['한국인','고령자']].astype(int).corr()"
   ]
  },
  {
   "cell_type": "code",
   "execution_count": 55,
   "id": "91c1ee02-f305-4aef-b991-af013cb5213b",
   "metadata": {},
   "outputs": [
    {
     "data": {
      "text/html": [
       "<div>\n",
       "<style scoped>\n",
       "    .dataframe tbody tr th:only-of-type {\n",
       "        vertical-align: middle;\n",
       "    }\n",
       "\n",
       "    .dataframe tbody tr th {\n",
       "        vertical-align: top;\n",
       "    }\n",
       "\n",
       "    .dataframe thead th {\n",
       "        text-align: right;\n",
       "    }\n",
       "</style>\n",
       "<table border=\"1\" class=\"dataframe\">\n",
       "  <thead>\n",
       "    <tr style=\"text-align: right;\">\n",
       "      <th></th>\n",
       "      <th>인구수</th>\n",
       "      <th>한국인</th>\n",
       "      <th>외국인</th>\n",
       "      <th>고령자</th>\n",
       "      <th>외국인비율</th>\n",
       "      <th>고령자비율</th>\n",
       "    </tr>\n",
       "  </thead>\n",
       "  <tbody>\n",
       "    <tr>\n",
       "      <th>0</th>\n",
       "      <td>162820</td>\n",
       "      <td>153589</td>\n",
       "      <td>9231</td>\n",
       "      <td>25425</td>\n",
       "      <td>5.669451</td>\n",
       "      <td>15.615404</td>\n",
       "    </tr>\n",
       "    <tr>\n",
       "      <th>1</th>\n",
       "      <td>133240</td>\n",
       "      <td>124312</td>\n",
       "      <td>8928</td>\n",
       "      <td>20764</td>\n",
       "      <td>6.70069</td>\n",
       "      <td>15.583909</td>\n",
       "    </tr>\n",
       "    <tr>\n",
       "      <th>2</th>\n",
       "      <td>244203</td>\n",
       "      <td>229456</td>\n",
       "      <td>14747</td>\n",
       "      <td>36231</td>\n",
       "      <td>6.038828</td>\n",
       "      <td>14.836427</td>\n",
       "    </tr>\n",
       "    <tr>\n",
       "      <th>3</th>\n",
       "      <td>311244</td>\n",
       "      <td>303380</td>\n",
       "      <td>7864</td>\n",
       "      <td>39997</td>\n",
       "      <td>2.526635</td>\n",
       "      <td>12.850689</td>\n",
       "    </tr>\n",
       "    <tr>\n",
       "      <th>4</th>\n",
       "      <td>372164</td>\n",
       "      <td>357211</td>\n",
       "      <td>14953</td>\n",
       "      <td>42214</td>\n",
       "      <td>4.017852</td>\n",
       "      <td>11.342849</td>\n",
       "    </tr>\n",
       "    <tr>\n",
       "      <th>5</th>\n",
       "      <td>369496</td>\n",
       "      <td>354079</td>\n",
       "      <td>15417</td>\n",
       "      <td>54173</td>\n",
       "      <td>4.17244</td>\n",
       "      <td>14.661322</td>\n",
       "    </tr>\n",
       "    <tr>\n",
       "      <th>6</th>\n",
       "      <td>414503</td>\n",
       "      <td>409882</td>\n",
       "      <td>4621</td>\n",
       "      <td>56774</td>\n",
       "      <td>1.114829</td>\n",
       "      <td>13.696885</td>\n",
       "    </tr>\n",
       "    <tr>\n",
       "      <th>7</th>\n",
       "      <td>461260</td>\n",
       "      <td>449773</td>\n",
       "      <td>11487</td>\n",
       "      <td>64692</td>\n",
       "      <td>2.490353</td>\n",
       "      <td>14.025062</td>\n",
       "    </tr>\n",
       "    <tr>\n",
       "      <th>8</th>\n",
       "      <td>330192</td>\n",
       "      <td>326686</td>\n",
       "      <td>3506</td>\n",
       "      <td>54813</td>\n",
       "      <td>1.061806</td>\n",
       "      <td>16.600342</td>\n",
       "    </tr>\n",
       "    <tr>\n",
       "      <th>9</th>\n",
       "      <td>348646</td>\n",
       "      <td>346629</td>\n",
       "      <td>2017</td>\n",
       "      <td>51312</td>\n",
       "      <td>0.578524</td>\n",
       "      <td>14.717507</td>\n",
       "    </tr>\n",
       "    <tr>\n",
       "      <th>10</th>\n",
       "      <td>569384</td>\n",
       "      <td>565565</td>\n",
       "      <td>3819</td>\n",
       "      <td>71941</td>\n",
       "      <td>0.670725</td>\n",
       "      <td>12.634883</td>\n",
       "    </tr>\n",
       "    <tr>\n",
       "      <th>11</th>\n",
       "      <td>494388</td>\n",
       "      <td>489943</td>\n",
       "      <td>4445</td>\n",
       "      <td>72334</td>\n",
       "      <td>0.899091</td>\n",
       "      <td>14.631019</td>\n",
       "    </tr>\n",
       "    <tr>\n",
       "      <th>12</th>\n",
       "      <td>327163</td>\n",
       "      <td>314982</td>\n",
       "      <td>12181</td>\n",
       "      <td>48161</td>\n",
       "      <td>3.723221</td>\n",
       "      <td>14.720797</td>\n",
       "    </tr>\n",
       "    <tr>\n",
       "      <th>13</th>\n",
       "      <td>389649</td>\n",
       "      <td>378566</td>\n",
       "      <td>11083</td>\n",
       "      <td>48765</td>\n",
       "      <td>2.844355</td>\n",
       "      <td>12.51511</td>\n",
       "    </tr>\n",
       "    <tr>\n",
       "      <th>14</th>\n",
       "      <td>479978</td>\n",
       "      <td>475949</td>\n",
       "      <td>4029</td>\n",
       "      <td>52975</td>\n",
       "      <td>0.839413</td>\n",
       "      <td>11.036964</td>\n",
       "    </tr>\n",
       "    <tr>\n",
       "      <th>15</th>\n",
       "      <td>603772</td>\n",
       "      <td>597248</td>\n",
       "      <td>6524</td>\n",
       "      <td>72548</td>\n",
       "      <td>1.08054</td>\n",
       "      <td>12.015794</td>\n",
       "    </tr>\n",
       "    <tr>\n",
       "      <th>16</th>\n",
       "      <td>447874</td>\n",
       "      <td>416487</td>\n",
       "      <td>31387</td>\n",
       "      <td>56833</td>\n",
       "      <td>7.007998</td>\n",
       "      <td>12.689506</td>\n",
       "    </tr>\n",
       "    <tr>\n",
       "      <th>17</th>\n",
       "      <td>255082</td>\n",
       "      <td>236353</td>\n",
       "      <td>18729</td>\n",
       "      <td>32970</td>\n",
       "      <td>7.342345</td>\n",
       "      <td>12.925255</td>\n",
       "    </tr>\n",
       "    <tr>\n",
       "      <th>18</th>\n",
       "      <td>402985</td>\n",
       "      <td>368072</td>\n",
       "      <td>34913</td>\n",
       "      <td>52413</td>\n",
       "      <td>8.663598</td>\n",
       "      <td>13.006191</td>\n",
       "    </tr>\n",
       "    <tr>\n",
       "      <th>19</th>\n",
       "      <td>412520</td>\n",
       "      <td>400456</td>\n",
       "      <td>12064</td>\n",
       "      <td>56013</td>\n",
       "      <td>2.924464</td>\n",
       "      <td>13.578251</td>\n",
       "    </tr>\n",
       "    <tr>\n",
       "      <th>20</th>\n",
       "      <td>525515</td>\n",
       "      <td>507203</td>\n",
       "      <td>18312</td>\n",
       "      <td>68082</td>\n",
       "      <td>3.484582</td>\n",
       "      <td>12.955291</td>\n",
       "    </tr>\n",
       "    <tr>\n",
       "      <th>21</th>\n",
       "      <td>450310</td>\n",
       "      <td>445994</td>\n",
       "      <td>4316</td>\n",
       "      <td>51733</td>\n",
       "      <td>0.958451</td>\n",
       "      <td>11.488308</td>\n",
       "    </tr>\n",
       "    <tr>\n",
       "      <th>22</th>\n",
       "      <td>570500</td>\n",
       "      <td>565550</td>\n",
       "      <td>4950</td>\n",
       "      <td>63167</td>\n",
       "      <td>0.86766</td>\n",
       "      <td>11.072217</td>\n",
       "    </tr>\n",
       "    <tr>\n",
       "      <th>23</th>\n",
       "      <td>667483</td>\n",
       "      <td>660584</td>\n",
       "      <td>6899</td>\n",
       "      <td>72506</td>\n",
       "      <td>1.033584</td>\n",
       "      <td>10.862599</td>\n",
       "    </tr>\n",
       "    <tr>\n",
       "      <th>24</th>\n",
       "      <td>453233</td>\n",
       "      <td>449019</td>\n",
       "      <td>4214</td>\n",
       "      <td>54622</td>\n",
       "      <td>0.929765</td>\n",
       "      <td>12.051638</td>\n",
       "    </tr>\n",
       "  </tbody>\n",
       "</table>\n",
       "</div>"
      ],
      "text/plain": [
       "       인구수     한국인    외국인    고령자     외국인비율      고령자비율\n",
       "0   162820  153589   9231  25425  5.669451  15.615404\n",
       "1   133240  124312   8928  20764   6.70069  15.583909\n",
       "2   244203  229456  14747  36231  6.038828  14.836427\n",
       "3   311244  303380   7864  39997  2.526635  12.850689\n",
       "4   372164  357211  14953  42214  4.017852  11.342849\n",
       "5   369496  354079  15417  54173   4.17244  14.661322\n",
       "6   414503  409882   4621  56774  1.114829  13.696885\n",
       "7   461260  449773  11487  64692  2.490353  14.025062\n",
       "8   330192  326686   3506  54813  1.061806  16.600342\n",
       "9   348646  346629   2017  51312  0.578524  14.717507\n",
       "10  569384  565565   3819  71941  0.670725  12.634883\n",
       "11  494388  489943   4445  72334  0.899091  14.631019\n",
       "12  327163  314982  12181  48161  3.723221  14.720797\n",
       "13  389649  378566  11083  48765  2.844355   12.51511\n",
       "14  479978  475949   4029  52975  0.839413  11.036964\n",
       "15  603772  597248   6524  72548   1.08054  12.015794\n",
       "16  447874  416487  31387  56833  7.007998  12.689506\n",
       "17  255082  236353  18729  32970  7.342345  12.925255\n",
       "18  402985  368072  34913  52413  8.663598  13.006191\n",
       "19  412520  400456  12064  56013  2.924464  13.578251\n",
       "20  525515  507203  18312  68082  3.484582  12.955291\n",
       "21  450310  445994   4316  51733  0.958451  11.488308\n",
       "22  570500  565550   4950  63167   0.86766  11.072217\n",
       "23  667483  660584   6899  72506  1.033584  10.862599\n",
       "24  453233  449019   4214  54622  0.929765  12.051638"
      ]
     },
     "execution_count": 55,
     "metadata": {},
     "output_type": "execute_result"
    }
   ],
   "source": [
    "pops.columns\n",
    "pops[['인구수','한국인','외국인','고령자','외국인비율','고령자비율']]"
   ]
  },
  {
   "cell_type": "code",
   "execution_count": 56,
   "id": "5513d273-ed33-404b-a552-b8982f7faa9c",
   "metadata": {},
   "outputs": [],
   "source": [
    "# 모든 칼럼(구별제외)의 데이터타입을 float형으로 바꾸었다가 int형으로 바꾸어 주세요.\n",
    "\n",
    "pops['인구수'] = pops['인구수'].astype(float)\n",
    "pops['인구수'] = pops['인구수'].astype(int)"
   ]
  },
  {
   "cell_type": "code",
   "execution_count": 57,
   "id": "c750b860-b865-4866-bcd0-3f9f9061be6d",
   "metadata": {},
   "outputs": [
    {
     "name": "stdout",
     "output_type": "stream",
     "text": [
      "<class 'pandas.core.frame.DataFrame'>\n",
      "Int64Index: 25 entries, 0 to 24\n",
      "Data columns (total 7 columns):\n",
      " #   Column  Non-Null Count  Dtype \n",
      "---  ------  --------------  ----- \n",
      " 0   구별      25 non-null     object\n",
      " 1   인구수     25 non-null     int64 \n",
      " 2   한국인     25 non-null     object\n",
      " 3   외국인     25 non-null     object\n",
      " 4   고령자     25 non-null     object\n",
      " 5   외국인비율   25 non-null     object\n",
      " 6   고령자비율   25 non-null     object\n",
      "dtypes: int64(1), object(6)\n",
      "memory usage: 2.1+ KB\n"
     ]
    }
   ],
   "source": [
    "pops.info()"
   ]
  },
  {
   "cell_type": "code",
   "execution_count": 58,
   "id": "9c39fcff-5662-44a1-9a3e-666aaf1eb94c",
   "metadata": {},
   "outputs": [],
   "source": [
    "# 람다함수를 써서 모든 열에 공통적으로 람다함수를 적용시켜 바꿉시다. float형으로 변환\n",
    "\n",
    "f = lambda x : x.astype(float)\n",
    "f = lambda x : x.astype(int)"
   ]
  },
  {
   "cell_type": "code",
   "execution_count": 59,
   "id": "2d53b17c-cd95-4544-92b1-df74be4d3091",
   "metadata": {},
   "outputs": [],
   "source": [
    "pops.iloc[:,1:] = pops.iloc[:,1:].apply(f)"
   ]
  },
  {
   "cell_type": "code",
   "execution_count": 60,
   "id": "59f20823-77ce-474c-893b-5c2ec55a76ed",
   "metadata": {},
   "outputs": [
    {
     "name": "stdout",
     "output_type": "stream",
     "text": [
      "<class 'pandas.core.frame.DataFrame'>\n",
      "Int64Index: 25 entries, 0 to 24\n",
      "Data columns (total 7 columns):\n",
      " #   Column  Non-Null Count  Dtype \n",
      "---  ------  --------------  ----- \n",
      " 0   구별      25 non-null     object\n",
      " 1   인구수     25 non-null     int64 \n",
      " 2   한국인     25 non-null     int64 \n",
      " 3   외국인     25 non-null     int64 \n",
      " 4   고령자     25 non-null     int64 \n",
      " 5   외국인비율   25 non-null     int64 \n",
      " 6   고령자비율   25 non-null     int64 \n",
      "dtypes: int64(6), object(1)\n",
      "memory usage: 2.1+ KB\n"
     ]
    }
   ],
   "source": [
    "pops.info()"
   ]
  },
  {
   "cell_type": "code",
   "execution_count": 61,
   "id": "d31e7556-61de-465f-b63e-d2ebf3754234",
   "metadata": {},
   "outputs": [],
   "source": [
    "# 예시 ) 열별로 최댓값과 최솟값의 차이를 구하는 람다함수\n",
    "\n",
    "f = lambda x : x.max() - x.min()"
   ]
  },
  {
   "cell_type": "code",
   "execution_count": 62,
   "id": "b525d3bf-556a-47f3-958f-cfa544a62641",
   "metadata": {},
   "outputs": [
    {
     "data": {
      "text/plain": [
       "한국인    536272\n",
       "고령자     51784\n",
       "dtype: int64"
      ]
     },
     "execution_count": 62,
     "metadata": {},
     "output_type": "execute_result"
    }
   ],
   "source": [
    "pops[[\"한국인\",\"고령자\"]].apply(f)"
   ]
  },
  {
   "cell_type": "code",
   "execution_count": 63,
   "id": "c5621602-b121-40f4-be45-57739f5ccda1",
   "metadata": {},
   "outputs": [
    {
     "data": {
      "text/plain": [
       "한국인    536272\n",
       "고령자     51784\n",
       "dtype: int64"
      ]
     },
     "execution_count": 63,
     "metadata": {},
     "output_type": "execute_result"
    }
   ],
   "source": [
    "pops[[\"한국인\",\"고령자\"]].apply(f, axis = 0)"
   ]
  },
  {
   "cell_type": "code",
   "execution_count": 64,
   "id": "10632a48-874c-418b-9d36-6a5c6c522e1d",
   "metadata": {},
   "outputs": [
    {
     "data": {
      "text/plain": [
       "한국인    536272\n",
       "고령자     51784\n",
       "dtype: int64"
      ]
     },
     "execution_count": 64,
     "metadata": {},
     "output_type": "execute_result"
    }
   ],
   "source": [
    "pops[[\"한국인\",\"고령자\"]].agg(f)"
   ]
  },
  {
   "cell_type": "markdown",
   "id": "9cef026a-c662-4817-9333-97b153f2e426",
   "metadata": {},
   "source": [
    "## CCTV_IN_SEOUL"
   ]
  },
  {
   "cell_type": "code",
   "execution_count": 65,
   "id": "4b46025f-41ac-4488-bca1-bc5e8e678463",
   "metadata": {},
   "outputs": [
    {
     "data": {
      "text/html": [
       "<div>\n",
       "<style scoped>\n",
       "    .dataframe tbody tr th:only-of-type {\n",
       "        vertical-align: middle;\n",
       "    }\n",
       "\n",
       "    .dataframe tbody tr th {\n",
       "        vertical-align: top;\n",
       "    }\n",
       "\n",
       "    .dataframe thead th {\n",
       "        text-align: right;\n",
       "    }\n",
       "</style>\n",
       "<table border=\"1\" class=\"dataframe\">\n",
       "  <thead>\n",
       "    <tr style=\"text-align: right;\">\n",
       "      <th></th>\n",
       "      <th>구별</th>\n",
       "      <th>소계</th>\n",
       "      <th>최근증가율</th>\n",
       "      <th>인구수</th>\n",
       "      <th>한국인</th>\n",
       "      <th>외국인</th>\n",
       "      <th>고령자</th>\n",
       "      <th>외국인비율</th>\n",
       "      <th>고령자비율</th>\n",
       "      <th>CCTV비율</th>\n",
       "      <th>오차</th>\n",
       "    </tr>\n",
       "  </thead>\n",
       "  <tbody>\n",
       "    <tr>\n",
       "      <th>0</th>\n",
       "      <td>강남구</td>\n",
       "      <td>2780</td>\n",
       "      <td>150.619195</td>\n",
       "      <td>570500.0</td>\n",
       "      <td>565550.0</td>\n",
       "      <td>4950.0</td>\n",
       "      <td>63167.0</td>\n",
       "      <td>0.867660</td>\n",
       "      <td>11.072217</td>\n",
       "      <td>0.487292</td>\n",
       "      <td>1388.055355</td>\n",
       "    </tr>\n",
       "    <tr>\n",
       "      <th>1</th>\n",
       "      <td>강동구</td>\n",
       "      <td>773</td>\n",
       "      <td>166.490765</td>\n",
       "      <td>453233.0</td>\n",
       "      <td>449019.0</td>\n",
       "      <td>4214.0</td>\n",
       "      <td>54622.0</td>\n",
       "      <td>0.929765</td>\n",
       "      <td>12.051638</td>\n",
       "      <td>0.170552</td>\n",
       "      <td>465.422892</td>\n",
       "    </tr>\n",
       "    <tr>\n",
       "      <th>2</th>\n",
       "      <td>강북구</td>\n",
       "      <td>748</td>\n",
       "      <td>125.203252</td>\n",
       "      <td>330192.0</td>\n",
       "      <td>326686.0</td>\n",
       "      <td>3506.0</td>\n",
       "      <td>54813.0</td>\n",
       "      <td>1.061806</td>\n",
       "      <td>16.600342</td>\n",
       "      <td>0.226535</td>\n",
       "      <td>329.342026</td>\n",
       "    </tr>\n",
       "  </tbody>\n",
       "</table>\n",
       "</div>"
      ],
      "text/plain": [
       "    구별    소계       최근증가율       인구수       한국인     외국인      고령자     외국인비율  \\\n",
       "0  강남구  2780  150.619195  570500.0  565550.0  4950.0  63167.0  0.867660   \n",
       "1  강동구   773  166.490765  453233.0  449019.0  4214.0  54622.0  0.929765   \n",
       "2  강북구   748  125.203252  330192.0  326686.0  3506.0  54813.0  1.061806   \n",
       "\n",
       "       고령자비율    CCTV비율           오차  \n",
       "0  11.072217  0.487292  1388.055355  \n",
       "1  12.051638  0.170552   465.422892  \n",
       "2  16.600342  0.226535   329.342026  "
      ]
     },
     "execution_count": 65,
     "metadata": {},
     "output_type": "execute_result"
    }
   ],
   "source": [
    "CCTV_RESULT[:3]"
   ]
  },
  {
   "cell_type": "code",
   "execution_count": 66,
   "id": "3cf8ea9e-825e-4bbf-b157-db05f687ebcb",
   "metadata": {},
   "outputs": [
    {
     "data": {
      "text/html": [
       "<div>\n",
       "<style scoped>\n",
       "    .dataframe tbody tr th:only-of-type {\n",
       "        vertical-align: middle;\n",
       "    }\n",
       "\n",
       "    .dataframe tbody tr th {\n",
       "        vertical-align: top;\n",
       "    }\n",
       "\n",
       "    .dataframe thead th {\n",
       "        text-align: right;\n",
       "    }\n",
       "</style>\n",
       "<table border=\"1\" class=\"dataframe\">\n",
       "  <thead>\n",
       "    <tr style=\"text-align: right;\">\n",
       "      <th></th>\n",
       "      <th>구별</th>\n",
       "      <th>소계</th>\n",
       "      <th>2013년도 이전</th>\n",
       "      <th>2014년</th>\n",
       "      <th>2015년</th>\n",
       "      <th>2016년</th>\n",
       "    </tr>\n",
       "  </thead>\n",
       "  <tbody>\n",
       "    <tr>\n",
       "      <th>0</th>\n",
       "      <td>강남구</td>\n",
       "      <td>2780</td>\n",
       "      <td>1292</td>\n",
       "      <td>430</td>\n",
       "      <td>584</td>\n",
       "      <td>932</td>\n",
       "    </tr>\n",
       "    <tr>\n",
       "      <th>1</th>\n",
       "      <td>강동구</td>\n",
       "      <td>773</td>\n",
       "      <td>379</td>\n",
       "      <td>99</td>\n",
       "      <td>155</td>\n",
       "      <td>377</td>\n",
       "    </tr>\n",
       "    <tr>\n",
       "      <th>2</th>\n",
       "      <td>강북구</td>\n",
       "      <td>748</td>\n",
       "      <td>369</td>\n",
       "      <td>120</td>\n",
       "      <td>138</td>\n",
       "      <td>204</td>\n",
       "    </tr>\n",
       "  </tbody>\n",
       "</table>\n",
       "</div>"
      ],
      "text/plain": [
       "    구별    소계  2013년도 이전  2014년  2015년  2016년\n",
       "0  강남구  2780       1292    430    584    932\n",
       "1  강동구   773        379     99    155    377\n",
       "2  강북구   748        369    120    138    204"
      ]
     },
     "execution_count": 66,
     "metadata": {},
     "output_type": "execute_result"
    }
   ],
   "source": [
    "CCTV_IN_SEOUL[:3]"
   ]
  },
  {
   "cell_type": "code",
   "execution_count": 67,
   "id": "67c39d0c-2525-452a-aa8d-6ffb0b094a27",
   "metadata": {},
   "outputs": [
    {
     "data": {
      "text/html": [
       "<div>\n",
       "<style scoped>\n",
       "    .dataframe tbody tr th:only-of-type {\n",
       "        vertical-align: middle;\n",
       "    }\n",
       "\n",
       "    .dataframe tbody tr th {\n",
       "        vertical-align: top;\n",
       "    }\n",
       "\n",
       "    .dataframe thead th {\n",
       "        text-align: right;\n",
       "    }\n",
       "</style>\n",
       "<table border=\"1\" class=\"dataframe\">\n",
       "  <thead>\n",
       "    <tr style=\"text-align: right;\">\n",
       "      <th></th>\n",
       "      <th>구별</th>\n",
       "      <th>소계</th>\n",
       "      <th>2013년도 이전</th>\n",
       "      <th>2014년</th>\n",
       "      <th>2015년</th>\n",
       "      <th>2016년</th>\n",
       "    </tr>\n",
       "  </thead>\n",
       "  <tbody>\n",
       "    <tr>\n",
       "      <th>0</th>\n",
       "      <td>강남구</td>\n",
       "      <td>2780</td>\n",
       "      <td>1292</td>\n",
       "      <td>430</td>\n",
       "      <td>584</td>\n",
       "      <td>932</td>\n",
       "    </tr>\n",
       "    <tr>\n",
       "      <th>18</th>\n",
       "      <td>양천구</td>\n",
       "      <td>2034</td>\n",
       "      <td>1843</td>\n",
       "      <td>142</td>\n",
       "      <td>30</td>\n",
       "      <td>467</td>\n",
       "    </tr>\n",
       "    <tr>\n",
       "      <th>14</th>\n",
       "      <td>서초구</td>\n",
       "      <td>1930</td>\n",
       "      <td>1406</td>\n",
       "      <td>157</td>\n",
       "      <td>336</td>\n",
       "      <td>398</td>\n",
       "    </tr>\n",
       "    <tr>\n",
       "      <th>21</th>\n",
       "      <td>은평구</td>\n",
       "      <td>1873</td>\n",
       "      <td>1138</td>\n",
       "      <td>224</td>\n",
       "      <td>278</td>\n",
       "      <td>468</td>\n",
       "    </tr>\n",
       "    <tr>\n",
       "      <th>20</th>\n",
       "      <td>용산구</td>\n",
       "      <td>1624</td>\n",
       "      <td>1368</td>\n",
       "      <td>218</td>\n",
       "      <td>112</td>\n",
       "      <td>398</td>\n",
       "    </tr>\n",
       "    <tr>\n",
       "      <th>6</th>\n",
       "      <td>구로구</td>\n",
       "      <td>1561</td>\n",
       "      <td>1142</td>\n",
       "      <td>173</td>\n",
       "      <td>246</td>\n",
       "      <td>323</td>\n",
       "    </tr>\n",
       "    <tr>\n",
       "      <th>4</th>\n",
       "      <td>관악구</td>\n",
       "      <td>1496</td>\n",
       "      <td>846</td>\n",
       "      <td>260</td>\n",
       "      <td>390</td>\n",
       "      <td>613</td>\n",
       "    </tr>\n",
       "    <tr>\n",
       "      <th>16</th>\n",
       "      <td>성북구</td>\n",
       "      <td>1464</td>\n",
       "      <td>1009</td>\n",
       "      <td>78</td>\n",
       "      <td>360</td>\n",
       "      <td>204</td>\n",
       "    </tr>\n",
       "    <tr>\n",
       "      <th>10</th>\n",
       "      <td>동대문구</td>\n",
       "      <td>1294</td>\n",
       "      <td>1070</td>\n",
       "      <td>23</td>\n",
       "      <td>198</td>\n",
       "      <td>579</td>\n",
       "    </tr>\n",
       "    <tr>\n",
       "      <th>8</th>\n",
       "      <td>노원구</td>\n",
       "      <td>1265</td>\n",
       "      <td>542</td>\n",
       "      <td>57</td>\n",
       "      <td>451</td>\n",
       "      <td>516</td>\n",
       "    </tr>\n",
       "    <tr>\n",
       "      <th>11</th>\n",
       "      <td>동작구</td>\n",
       "      <td>1091</td>\n",
       "      <td>544</td>\n",
       "      <td>341</td>\n",
       "      <td>103</td>\n",
       "      <td>314</td>\n",
       "    </tr>\n",
       "    <tr>\n",
       "      <th>15</th>\n",
       "      <td>성동구</td>\n",
       "      <td>1062</td>\n",
       "      <td>730</td>\n",
       "      <td>91</td>\n",
       "      <td>241</td>\n",
       "      <td>265</td>\n",
       "    </tr>\n",
       "    <tr>\n",
       "      <th>7</th>\n",
       "      <td>금천구</td>\n",
       "      <td>1015</td>\n",
       "      <td>674</td>\n",
       "      <td>51</td>\n",
       "      <td>269</td>\n",
       "      <td>354</td>\n",
       "    </tr>\n",
       "    <tr>\n",
       "      <th>22</th>\n",
       "      <td>종로구</td>\n",
       "      <td>1002</td>\n",
       "      <td>464</td>\n",
       "      <td>314</td>\n",
       "      <td>211</td>\n",
       "      <td>630</td>\n",
       "    </tr>\n",
       "    <tr>\n",
       "      <th>13</th>\n",
       "      <td>서대문구</td>\n",
       "      <td>962</td>\n",
       "      <td>844</td>\n",
       "      <td>50</td>\n",
       "      <td>68</td>\n",
       "      <td>292</td>\n",
       "    </tr>\n",
       "    <tr>\n",
       "      <th>19</th>\n",
       "      <td>영등포구</td>\n",
       "      <td>904</td>\n",
       "      <td>495</td>\n",
       "      <td>214</td>\n",
       "      <td>195</td>\n",
       "      <td>373</td>\n",
       "    </tr>\n",
       "    <tr>\n",
       "      <th>3</th>\n",
       "      <td>강서구</td>\n",
       "      <td>884</td>\n",
       "      <td>388</td>\n",
       "      <td>258</td>\n",
       "      <td>184</td>\n",
       "      <td>81</td>\n",
       "    </tr>\n",
       "    <tr>\n",
       "      <th>1</th>\n",
       "      <td>강동구</td>\n",
       "      <td>773</td>\n",
       "      <td>379</td>\n",
       "      <td>99</td>\n",
       "      <td>155</td>\n",
       "      <td>377</td>\n",
       "    </tr>\n",
       "    <tr>\n",
       "      <th>2</th>\n",
       "      <td>강북구</td>\n",
       "      <td>748</td>\n",
       "      <td>369</td>\n",
       "      <td>120</td>\n",
       "      <td>138</td>\n",
       "      <td>204</td>\n",
       "    </tr>\n",
       "    <tr>\n",
       "      <th>5</th>\n",
       "      <td>광진구</td>\n",
       "      <td>707</td>\n",
       "      <td>573</td>\n",
       "      <td>78</td>\n",
       "      <td>53</td>\n",
       "      <td>174</td>\n",
       "    </tr>\n",
       "    <tr>\n",
       "      <th>23</th>\n",
       "      <td>중구</td>\n",
       "      <td>671</td>\n",
       "      <td>413</td>\n",
       "      <td>190</td>\n",
       "      <td>72</td>\n",
       "      <td>348</td>\n",
       "    </tr>\n",
       "    <tr>\n",
       "      <th>24</th>\n",
       "      <td>중랑구</td>\n",
       "      <td>660</td>\n",
       "      <td>509</td>\n",
       "      <td>121</td>\n",
       "      <td>177</td>\n",
       "      <td>109</td>\n",
       "    </tr>\n",
       "    <tr>\n",
       "      <th>17</th>\n",
       "      <td>송파구</td>\n",
       "      <td>618</td>\n",
       "      <td>529</td>\n",
       "      <td>21</td>\n",
       "      <td>68</td>\n",
       "      <td>463</td>\n",
       "    </tr>\n",
       "    <tr>\n",
       "      <th>12</th>\n",
       "      <td>마포구</td>\n",
       "      <td>574</td>\n",
       "      <td>314</td>\n",
       "      <td>118</td>\n",
       "      <td>169</td>\n",
       "      <td>379</td>\n",
       "    </tr>\n",
       "    <tr>\n",
       "      <th>9</th>\n",
       "      <td>도봉구</td>\n",
       "      <td>485</td>\n",
       "      <td>238</td>\n",
       "      <td>159</td>\n",
       "      <td>42</td>\n",
       "      <td>386</td>\n",
       "    </tr>\n",
       "  </tbody>\n",
       "</table>\n",
       "</div>"
      ],
      "text/plain": [
       "      구별    소계  2013년도 이전  2014년  2015년  2016년\n",
       "0    강남구  2780       1292    430    584    932\n",
       "18   양천구  2034       1843    142     30    467\n",
       "14   서초구  1930       1406    157    336    398\n",
       "21   은평구  1873       1138    224    278    468\n",
       "20   용산구  1624       1368    218    112    398\n",
       "6    구로구  1561       1142    173    246    323\n",
       "4    관악구  1496        846    260    390    613\n",
       "16   성북구  1464       1009     78    360    204\n",
       "10  동대문구  1294       1070     23    198    579\n",
       "8    노원구  1265        542     57    451    516\n",
       "11   동작구  1091        544    341    103    314\n",
       "15   성동구  1062        730     91    241    265\n",
       "7    금천구  1015        674     51    269    354\n",
       "22   종로구  1002        464    314    211    630\n",
       "13  서대문구   962        844     50     68    292\n",
       "19  영등포구   904        495    214    195    373\n",
       "3    강서구   884        388    258    184     81\n",
       "1    강동구   773        379     99    155    377\n",
       "2    강북구   748        369    120    138    204\n",
       "5    광진구   707        573     78     53    174\n",
       "23    중구   671        413    190     72    348\n",
       "24   중랑구   660        509    121    177    109\n",
       "17   송파구   618        529     21     68    463\n",
       "12   마포구   574        314    118    169    379\n",
       "9    도봉구   485        238    159     42    386"
      ]
     },
     "execution_count": 67,
     "metadata": {},
     "output_type": "execute_result"
    }
   ],
   "source": [
    "# CCTV 개수가 3번쪠 많은 구는?\n",
    "\n",
    "CCTV_IN_SEOUL.sort_values(by='소계', ascending = False)\n",
    "\n",
    "# 서초구"
   ]
  },
  {
   "cell_type": "code",
   "execution_count": 68,
   "id": "45819594-647f-44ad-abf4-5ec61e4ececf",
   "metadata": {},
   "outputs": [
    {
     "data": {
      "text/plain": [
       "'서초구'"
      ]
     },
     "execution_count": 68,
     "metadata": {},
     "output_type": "execute_result"
    }
   ],
   "source": [
    "CCTV_IN_SEOUL.sort_values(by='소계', ascending = False)['구별'].reset_index(drop=True)[2]"
   ]
  },
  {
   "cell_type": "code",
   "execution_count": 69,
   "id": "439a98d2-4686-4b3d-b936-c3be487611a8",
   "metadata": {},
   "outputs": [],
   "source": [
    "# 2014년 + 2015년 대비 2016년의 설치대수 증가율인 '최근 증가율' 칼럼을 만들어 주세요.\n",
    "\n",
    "CCTV_IN_SEOUL['최근 증가율'] = (CCTV_IN_SEOUL['2016년'] / (CCTV_IN_SEOUL['2014년'] + CCTV_IN_SEOUL['2015년']) -1)*100"
   ]
  },
  {
   "cell_type": "code",
   "execution_count": 70,
   "id": "c50993db-6f46-424c-b4c1-2cbe0dc48e50",
   "metadata": {},
   "outputs": [
    {
     "data": {
      "text/html": [
       "<div>\n",
       "<style scoped>\n",
       "    .dataframe tbody tr th:only-of-type {\n",
       "        vertical-align: middle;\n",
       "    }\n",
       "\n",
       "    .dataframe tbody tr th {\n",
       "        vertical-align: top;\n",
       "    }\n",
       "\n",
       "    .dataframe thead th {\n",
       "        text-align: right;\n",
       "    }\n",
       "</style>\n",
       "<table border=\"1\" class=\"dataframe\">\n",
       "  <thead>\n",
       "    <tr style=\"text-align: right;\">\n",
       "      <th></th>\n",
       "      <th>구별</th>\n",
       "      <th>소계</th>\n",
       "      <th>2013년도 이전</th>\n",
       "      <th>2014년</th>\n",
       "      <th>2015년</th>\n",
       "      <th>2016년</th>\n",
       "      <th>최근 증가율</th>\n",
       "    </tr>\n",
       "  </thead>\n",
       "  <tbody>\n",
       "    <tr>\n",
       "      <th>0</th>\n",
       "      <td>강남구</td>\n",
       "      <td>2780</td>\n",
       "      <td>1292</td>\n",
       "      <td>430</td>\n",
       "      <td>584</td>\n",
       "      <td>932</td>\n",
       "      <td>-8.086785</td>\n",
       "    </tr>\n",
       "    <tr>\n",
       "      <th>1</th>\n",
       "      <td>강동구</td>\n",
       "      <td>773</td>\n",
       "      <td>379</td>\n",
       "      <td>99</td>\n",
       "      <td>155</td>\n",
       "      <td>377</td>\n",
       "      <td>48.425197</td>\n",
       "    </tr>\n",
       "    <tr>\n",
       "      <th>2</th>\n",
       "      <td>강북구</td>\n",
       "      <td>748</td>\n",
       "      <td>369</td>\n",
       "      <td>120</td>\n",
       "      <td>138</td>\n",
       "      <td>204</td>\n",
       "      <td>-20.930233</td>\n",
       "    </tr>\n",
       "  </tbody>\n",
       "</table>\n",
       "</div>"
      ],
      "text/plain": [
       "    구별    소계  2013년도 이전  2014년  2015년  2016년     최근 증가율\n",
       "0  강남구  2780       1292    430    584    932  -8.086785\n",
       "1  강동구   773        379     99    155    377  48.425197\n",
       "2  강북구   748        369    120    138    204 -20.930233"
      ]
     },
     "execution_count": 70,
     "metadata": {},
     "output_type": "execute_result"
    }
   ],
   "source": [
    "CCTV_IN_SEOUL[:3]"
   ]
  },
  {
   "cell_type": "code",
   "execution_count": 71,
   "id": "6153e1b1-cf33-4f63-9f3b-b21ff0929b6f",
   "metadata": {},
   "outputs": [
    {
     "data": {
      "text/html": [
       "<div>\n",
       "<style scoped>\n",
       "    .dataframe tbody tr th:only-of-type {\n",
       "        vertical-align: middle;\n",
       "    }\n",
       "\n",
       "    .dataframe tbody tr th {\n",
       "        vertical-align: top;\n",
       "    }\n",
       "\n",
       "    .dataframe thead th {\n",
       "        text-align: right;\n",
       "    }\n",
       "</style>\n",
       "<table border=\"1\" class=\"dataframe\">\n",
       "  <thead>\n",
       "    <tr style=\"text-align: right;\">\n",
       "      <th></th>\n",
       "      <th>구별</th>\n",
       "      <th>인구수</th>\n",
       "      <th>한국인</th>\n",
       "      <th>외국인</th>\n",
       "      <th>고령자</th>\n",
       "      <th>외국인비율</th>\n",
       "      <th>고령자비율</th>\n",
       "    </tr>\n",
       "  </thead>\n",
       "  <tbody>\n",
       "    <tr>\n",
       "      <th>0</th>\n",
       "      <td>종로구</td>\n",
       "      <td>162820</td>\n",
       "      <td>153589</td>\n",
       "      <td>9231</td>\n",
       "      <td>25425</td>\n",
       "      <td>5</td>\n",
       "      <td>15</td>\n",
       "    </tr>\n",
       "    <tr>\n",
       "      <th>1</th>\n",
       "      <td>중구</td>\n",
       "      <td>133240</td>\n",
       "      <td>124312</td>\n",
       "      <td>8928</td>\n",
       "      <td>20764</td>\n",
       "      <td>6</td>\n",
       "      <td>15</td>\n",
       "    </tr>\n",
       "    <tr>\n",
       "      <th>2</th>\n",
       "      <td>용산구</td>\n",
       "      <td>244203</td>\n",
       "      <td>229456</td>\n",
       "      <td>14747</td>\n",
       "      <td>36231</td>\n",
       "      <td>6</td>\n",
       "      <td>14</td>\n",
       "    </tr>\n",
       "  </tbody>\n",
       "</table>\n",
       "</div>"
      ],
      "text/plain": [
       "    구별     인구수     한국인    외국인    고령자  외국인비율  고령자비율\n",
       "0  종로구  162820  153589   9231  25425      5     15\n",
       "1   중구  133240  124312   8928  20764      6     15\n",
       "2  용산구  244203  229456  14747  36231      6     14"
      ]
     },
     "execution_count": 71,
     "metadata": {},
     "output_type": "execute_result"
    }
   ],
   "source": [
    "pops[:3]"
   ]
  },
  {
   "cell_type": "markdown",
   "id": "c650dfed-8e9e-4bcc-91d9-1a99f773fffd",
   "metadata": {},
   "source": [
    "### CCTV_IN_SEOUL과 pops"
   ]
  },
  {
   "cell_type": "code",
   "execution_count": 72,
   "id": "259d6eb6-a4bf-4516-bfff-db1ea60ea8ea",
   "metadata": {},
   "outputs": [],
   "source": [
    "# 두 데이터프레임을 합쳐 data라는 이름으로 만들어 주세요.\n",
    "\n",
    "data = pd.merge(CCTV_IN_SEOUL, pops, how = 'inner', on = '구별')"
   ]
  },
  {
   "cell_type": "code",
   "execution_count": 73,
   "id": "96018740-707a-40bf-8860-816b2f296fd2",
   "metadata": {},
   "outputs": [],
   "source": [
    "# 구별을 index로 넣어 주세요.\n",
    "\n",
    "data = data.set_index('구별')"
   ]
  },
  {
   "cell_type": "code",
   "execution_count": 74,
   "id": "2fa8e584-e8ce-44ab-8607-54fd3e7f6c97",
   "metadata": {},
   "outputs": [
    {
     "data": {
      "text/html": [
       "<div>\n",
       "<style scoped>\n",
       "    .dataframe tbody tr th:only-of-type {\n",
       "        vertical-align: middle;\n",
       "    }\n",
       "\n",
       "    .dataframe tbody tr th {\n",
       "        vertical-align: top;\n",
       "    }\n",
       "\n",
       "    .dataframe thead th {\n",
       "        text-align: right;\n",
       "    }\n",
       "</style>\n",
       "<table border=\"1\" class=\"dataframe\">\n",
       "  <thead>\n",
       "    <tr style=\"text-align: right;\">\n",
       "      <th></th>\n",
       "      <th>소계</th>\n",
       "      <th>2013년도 이전</th>\n",
       "      <th>2014년</th>\n",
       "      <th>2015년</th>\n",
       "      <th>2016년</th>\n",
       "      <th>최근 증가율</th>\n",
       "      <th>인구수</th>\n",
       "      <th>한국인</th>\n",
       "      <th>외국인</th>\n",
       "      <th>고령자</th>\n",
       "      <th>외국인비율</th>\n",
       "      <th>고령자비율</th>\n",
       "    </tr>\n",
       "    <tr>\n",
       "      <th>구별</th>\n",
       "      <th></th>\n",
       "      <th></th>\n",
       "      <th></th>\n",
       "      <th></th>\n",
       "      <th></th>\n",
       "      <th></th>\n",
       "      <th></th>\n",
       "      <th></th>\n",
       "      <th></th>\n",
       "      <th></th>\n",
       "      <th></th>\n",
       "      <th></th>\n",
       "    </tr>\n",
       "  </thead>\n",
       "  <tbody>\n",
       "    <tr>\n",
       "      <th>강남구</th>\n",
       "      <td>2780</td>\n",
       "      <td>1292</td>\n",
       "      <td>430</td>\n",
       "      <td>584</td>\n",
       "      <td>932</td>\n",
       "      <td>-8.086785</td>\n",
       "      <td>570500</td>\n",
       "      <td>565550</td>\n",
       "      <td>4950</td>\n",
       "      <td>63167</td>\n",
       "      <td>0</td>\n",
       "      <td>11</td>\n",
       "    </tr>\n",
       "    <tr>\n",
       "      <th>강동구</th>\n",
       "      <td>773</td>\n",
       "      <td>379</td>\n",
       "      <td>99</td>\n",
       "      <td>155</td>\n",
       "      <td>377</td>\n",
       "      <td>48.425197</td>\n",
       "      <td>453233</td>\n",
       "      <td>449019</td>\n",
       "      <td>4214</td>\n",
       "      <td>54622</td>\n",
       "      <td>0</td>\n",
       "      <td>12</td>\n",
       "    </tr>\n",
       "    <tr>\n",
       "      <th>강북구</th>\n",
       "      <td>748</td>\n",
       "      <td>369</td>\n",
       "      <td>120</td>\n",
       "      <td>138</td>\n",
       "      <td>204</td>\n",
       "      <td>-20.930233</td>\n",
       "      <td>330192</td>\n",
       "      <td>326686</td>\n",
       "      <td>3506</td>\n",
       "      <td>54813</td>\n",
       "      <td>1</td>\n",
       "      <td>16</td>\n",
       "    </tr>\n",
       "    <tr>\n",
       "      <th>강서구</th>\n",
       "      <td>884</td>\n",
       "      <td>388</td>\n",
       "      <td>258</td>\n",
       "      <td>184</td>\n",
       "      <td>81</td>\n",
       "      <td>-81.674208</td>\n",
       "      <td>603772</td>\n",
       "      <td>597248</td>\n",
       "      <td>6524</td>\n",
       "      <td>72548</td>\n",
       "      <td>1</td>\n",
       "      <td>12</td>\n",
       "    </tr>\n",
       "    <tr>\n",
       "      <th>관악구</th>\n",
       "      <td>1496</td>\n",
       "      <td>846</td>\n",
       "      <td>260</td>\n",
       "      <td>390</td>\n",
       "      <td>613</td>\n",
       "      <td>-5.692308</td>\n",
       "      <td>525515</td>\n",
       "      <td>507203</td>\n",
       "      <td>18312</td>\n",
       "      <td>68082</td>\n",
       "      <td>3</td>\n",
       "      <td>12</td>\n",
       "    </tr>\n",
       "    <tr>\n",
       "      <th>광진구</th>\n",
       "      <td>707</td>\n",
       "      <td>573</td>\n",
       "      <td>78</td>\n",
       "      <td>53</td>\n",
       "      <td>174</td>\n",
       "      <td>32.824427</td>\n",
       "      <td>372164</td>\n",
       "      <td>357211</td>\n",
       "      <td>14953</td>\n",
       "      <td>42214</td>\n",
       "      <td>4</td>\n",
       "      <td>11</td>\n",
       "    </tr>\n",
       "  </tbody>\n",
       "</table>\n",
       "</div>"
      ],
      "text/plain": [
       "       소계  2013년도 이전  2014년  2015년  2016년     최근 증가율     인구수     한국인    외국인  \\\n",
       "구별                                                                            \n",
       "강남구  2780       1292    430    584    932  -8.086785  570500  565550   4950   \n",
       "강동구   773        379     99    155    377  48.425197  453233  449019   4214   \n",
       "강북구   748        369    120    138    204 -20.930233  330192  326686   3506   \n",
       "강서구   884        388    258    184     81 -81.674208  603772  597248   6524   \n",
       "관악구  1496        846    260    390    613  -5.692308  525515  507203  18312   \n",
       "광진구   707        573     78     53    174  32.824427  372164  357211  14953   \n",
       "\n",
       "       고령자  외국인비율  고령자비율  \n",
       "구별                        \n",
       "강남구  63167      0     11  \n",
       "강동구  54622      0     12  \n",
       "강북구  54813      1     16  \n",
       "강서구  72548      1     12  \n",
       "관악구  68082      3     12  \n",
       "광진구  42214      4     11  "
      ]
     },
     "execution_count": 74,
     "metadata": {},
     "output_type": "execute_result"
    }
   ],
   "source": [
    "data[:6]"
   ]
  },
  {
   "cell_type": "code",
   "execution_count": 75,
   "id": "049188bf-5859-48a0-9343-77ac22b94f67",
   "metadata": {},
   "outputs": [
    {
     "data": {
      "text/plain": [
       "<AxesSubplot:xlabel='구별'>"
      ]
     },
     "execution_count": 75,
     "metadata": {},
     "output_type": "execute_result"
    },
    {
     "data": {
      "image/png": "[encoded data removed]",
      "text/plain": [
       "<Figure size 432x288 with 1 Axes>"
      ]
     },
     "metadata": {
      "needs_background": "light"
     },
     "output_type": "display_data"
    }
   ],
   "source": [
    "# 구별 인수를 막대그래프를 그려 봅시다.\n",
    "\n",
    "data.plot(kind='bar', y='인구수')"
   ]
  },
  {
   "cell_type": "code",
   "execution_count": 76,
   "id": "5daeac0b-5ffd-4ff7-9fb7-5a85de813763",
   "metadata": {},
   "outputs": [
    {
     "data": {
      "image/png": "[encoded data removed]",
      "text/plain": [
       "<Figure size 432x288 with 1 Axes>"
      ]
     },
     "metadata": {
      "needs_background": "light"
     },
     "output_type": "display_data"
    }
   ],
   "source": [
    "data.plot.bar(y = '인구수')\n",
    "plt.show()"
   ]
  },
  {
   "cell_type": "code",
   "execution_count": 77,
   "id": "a944de96-34df-4a5d-a626-1d535ac10631",
   "metadata": {},
   "outputs": [
    {
     "data": {
      "image/png": "[encoded data removed]",
      "text/plain": [
       "<Figure size 432x288 with 1 Axes>"
      ]
     },
     "metadata": {
      "needs_background": "light"
     },
     "output_type": "display_data"
    }
   ],
   "source": [
    "sns.barplot(x= data.index, y='인구수', data=data)\n",
    "plt.xticks(rotation=55)\n",
    "plt.show()"
   ]
  },
  {
   "cell_type": "code",
   "execution_count": 78,
   "id": "63ecbf72-a28b-4c95-8812-a9bd7709b67e",
   "metadata": {},
   "outputs": [
    {
     "data": {
      "image/png": "[encoded data removed]",
      "text/plain": [
       "<Figure size 432x288 with 1 Axes>"
      ]
     },
     "metadata": {
      "needs_background": "light"
     },
     "output_type": "display_data"
    }
   ],
   "source": [
    "sns.barplot(x= data.index, y='인구수', data=data.reset_index())\n",
    "plt.xticks(rotation=55)\n",
    "plt.show()"
   ]
  },
  {
   "cell_type": "code",
   "execution_count": 79,
   "id": "7a4b0bc5-f04d-4058-9ecf-d1298973a79d",
   "metadata": {},
   "outputs": [
    {
     "data": {
      "text/html": [
       "<div>\n",
       "<style scoped>\n",
       "    .dataframe tbody tr th:only-of-type {\n",
       "        vertical-align: middle;\n",
       "    }\n",
       "\n",
       "    .dataframe tbody tr th {\n",
       "        vertical-align: top;\n",
       "    }\n",
       "\n",
       "    .dataframe thead th {\n",
       "        text-align: right;\n",
       "    }\n",
       "</style>\n",
       "<table border=\"1\" class=\"dataframe\">\n",
       "  <thead>\n",
       "    <tr style=\"text-align: right;\">\n",
       "      <th></th>\n",
       "      <th>소계</th>\n",
       "      <th>인구수</th>\n",
       "      <th>cctv대수/인구수</th>\n",
       "    </tr>\n",
       "    <tr>\n",
       "      <th>구별</th>\n",
       "      <th></th>\n",
       "      <th></th>\n",
       "      <th></th>\n",
       "    </tr>\n",
       "  </thead>\n",
       "  <tbody>\n",
       "    <tr>\n",
       "      <th>용산구</th>\n",
       "      <td>1624</td>\n",
       "      <td>244203</td>\n",
       "      <td>0.006650</td>\n",
       "    </tr>\n",
       "    <tr>\n",
       "      <th>종로구</th>\n",
       "      <td>1002</td>\n",
       "      <td>162820</td>\n",
       "      <td>0.006154</td>\n",
       "    </tr>\n",
       "    <tr>\n",
       "      <th>중구</th>\n",
       "      <td>671</td>\n",
       "      <td>133240</td>\n",
       "      <td>0.005036</td>\n",
       "    </tr>\n",
       "    <tr>\n",
       "      <th>강남구</th>\n",
       "      <td>2780</td>\n",
       "      <td>570500</td>\n",
       "      <td>0.004873</td>\n",
       "    </tr>\n",
       "    <tr>\n",
       "      <th>서초구</th>\n",
       "      <td>1930</td>\n",
       "      <td>450310</td>\n",
       "      <td>0.004286</td>\n",
       "    </tr>\n",
       "    <tr>\n",
       "      <th>양천구</th>\n",
       "      <td>2034</td>\n",
       "      <td>479978</td>\n",
       "      <td>0.004238</td>\n",
       "    </tr>\n",
       "    <tr>\n",
       "      <th>금천구</th>\n",
       "      <td>1015</td>\n",
       "      <td>255082</td>\n",
       "      <td>0.003979</td>\n",
       "    </tr>\n",
       "    <tr>\n",
       "      <th>은평구</th>\n",
       "      <td>1873</td>\n",
       "      <td>494388</td>\n",
       "      <td>0.003789</td>\n",
       "    </tr>\n",
       "    <tr>\n",
       "      <th>동대문구</th>\n",
       "      <td>1294</td>\n",
       "      <td>369496</td>\n",
       "      <td>0.003502</td>\n",
       "    </tr>\n",
       "    <tr>\n",
       "      <th>구로구</th>\n",
       "      <td>1561</td>\n",
       "      <td>447874</td>\n",
       "      <td>0.003485</td>\n",
       "    </tr>\n",
       "    <tr>\n",
       "      <th>성동구</th>\n",
       "      <td>1062</td>\n",
       "      <td>311244</td>\n",
       "      <td>0.003412</td>\n",
       "    </tr>\n",
       "    <tr>\n",
       "      <th>성북구</th>\n",
       "      <td>1464</td>\n",
       "      <td>461260</td>\n",
       "      <td>0.003174</td>\n",
       "    </tr>\n",
       "    <tr>\n",
       "      <th>서대문구</th>\n",
       "      <td>962</td>\n",
       "      <td>327163</td>\n",
       "      <td>0.002940</td>\n",
       "    </tr>\n",
       "    <tr>\n",
       "      <th>관악구</th>\n",
       "      <td>1496</td>\n",
       "      <td>525515</td>\n",
       "      <td>0.002847</td>\n",
       "    </tr>\n",
       "    <tr>\n",
       "      <th>동작구</th>\n",
       "      <td>1091</td>\n",
       "      <td>412520</td>\n",
       "      <td>0.002645</td>\n",
       "    </tr>\n",
       "    <tr>\n",
       "      <th>강북구</th>\n",
       "      <td>748</td>\n",
       "      <td>330192</td>\n",
       "      <td>0.002265</td>\n",
       "    </tr>\n",
       "    <tr>\n",
       "      <th>영등포구</th>\n",
       "      <td>904</td>\n",
       "      <td>402985</td>\n",
       "      <td>0.002243</td>\n",
       "    </tr>\n",
       "    <tr>\n",
       "      <th>노원구</th>\n",
       "      <td>1265</td>\n",
       "      <td>569384</td>\n",
       "      <td>0.002222</td>\n",
       "    </tr>\n",
       "    <tr>\n",
       "      <th>광진구</th>\n",
       "      <td>707</td>\n",
       "      <td>372164</td>\n",
       "      <td>0.001900</td>\n",
       "    </tr>\n",
       "    <tr>\n",
       "      <th>강동구</th>\n",
       "      <td>773</td>\n",
       "      <td>453233</td>\n",
       "      <td>0.001706</td>\n",
       "    </tr>\n",
       "    <tr>\n",
       "      <th>중랑구</th>\n",
       "      <td>660</td>\n",
       "      <td>414503</td>\n",
       "      <td>0.001592</td>\n",
       "    </tr>\n",
       "    <tr>\n",
       "      <th>마포구</th>\n",
       "      <td>574</td>\n",
       "      <td>389649</td>\n",
       "      <td>0.001473</td>\n",
       "    </tr>\n",
       "    <tr>\n",
       "      <th>강서구</th>\n",
       "      <td>884</td>\n",
       "      <td>603772</td>\n",
       "      <td>0.001464</td>\n",
       "    </tr>\n",
       "    <tr>\n",
       "      <th>도봉구</th>\n",
       "      <td>485</td>\n",
       "      <td>348646</td>\n",
       "      <td>0.001391</td>\n",
       "    </tr>\n",
       "    <tr>\n",
       "      <th>송파구</th>\n",
       "      <td>618</td>\n",
       "      <td>667483</td>\n",
       "      <td>0.000926</td>\n",
       "    </tr>\n",
       "  </tbody>\n",
       "</table>\n",
       "</div>"
      ],
      "text/plain": [
       "        소계     인구수  cctv대수/인구수\n",
       "구별                            \n",
       "용산구   1624  244203    0.006650\n",
       "종로구   1002  162820    0.006154\n",
       "중구     671  133240    0.005036\n",
       "강남구   2780  570500    0.004873\n",
       "서초구   1930  450310    0.004286\n",
       "양천구   2034  479978    0.004238\n",
       "금천구   1015  255082    0.003979\n",
       "은평구   1873  494388    0.003789\n",
       "동대문구  1294  369496    0.003502\n",
       "구로구   1561  447874    0.003485\n",
       "성동구   1062  311244    0.003412\n",
       "성북구   1464  461260    0.003174\n",
       "서대문구   962  327163    0.002940\n",
       "관악구   1496  525515    0.002847\n",
       "동작구   1091  412520    0.002645\n",
       "강북구    748  330192    0.002265\n",
       "영등포구   904  402985    0.002243\n",
       "노원구   1265  569384    0.002222\n",
       "광진구    707  372164    0.001900\n",
       "강동구    773  453233    0.001706\n",
       "중랑구    660  414503    0.001592\n",
       "마포구    574  389649    0.001473\n",
       "강서구    884  603772    0.001464\n",
       "도봉구    485  348646    0.001391\n",
       "송파구    618  667483    0.000926"
      ]
     },
     "execution_count": 79,
     "metadata": {},
     "output_type": "execute_result"
    }
   ],
   "source": [
    "# cctv대수 / 인구수 대비가 가장 높은 순서대로 정렬해 주세요. 소계, 인구수, cctv대수 / 인구수 세개의 칼럼만 df로 저장\n",
    "\n",
    "data['cctv대수/인구수'] = data['소계'] / data['인구수']\n",
    "\n",
    "df = data[['소계','인구수', 'cctv대수/인구수']]\n",
    "df.sort_values(by='cctv대수/인구수', ascending = False)"
   ]
  },
  {
   "cell_type": "code",
   "execution_count": 80,
   "id": "c801a8b1-4b63-4f23-824b-bc17684b65ea",
   "metadata": {},
   "outputs": [
    {
     "data": {
      "text/plain": [
       "<AxesSubplot:xlabel='인구수', ylabel='소계'>"
      ]
     },
     "execution_count": 80,
     "metadata": {},
     "output_type": "execute_result"
    },
    {
     "data": {
      "image/png": "[encoded data removed]",
      "text/plain": [
       "<Figure size 432x288 with 1 Axes>"
      ]
     },
     "metadata": {
      "needs_background": "light"
     },
     "output_type": "display_data"
    }
   ],
   "source": [
    "# df에 대하여 인구수와 소계의 산점도를 그려봅시다.\n",
    "\n",
    "df.plot(kind='scatter',x='인구수', y='소계')"
   ]
  },
  {
   "cell_type": "code",
   "execution_count": 81,
   "id": "2b448263-0bb8-46a5-92c1-25084eca8138",
   "metadata": {},
   "outputs": [
    {
     "data": {
      "text/plain": [
       "<AxesSubplot:ylabel='구별'>"
      ]
     },
     "execution_count": 81,
     "metadata": {},
     "output_type": "execute_result"
    },
    {
     "data": {
      "image/png": "[encoded data removed]",
      "text/plain": [
       "<Figure size 432x288 with 1 Axes>"
      ]
     },
     "metadata": {
      "needs_background": "light"
     },
     "output_type": "display_data"
    }
   ],
   "source": [
    "# df에 대하여 구별 소계의 수평막대그래프를 그려봅시다.\n",
    "\n",
    "df.plot(kind='barh', y='소계')"
   ]
  },
  {
   "cell_type": "markdown",
   "id": "1d4bcd23-ae12-427a-bafc-90468be2a093",
   "metadata": {},
   "source": [
    "# 함수"
   ]
  },
  {
   "cell_type": "markdown",
   "id": "4e8bb4e9-e8fe-4cb0-afad-bacd866c101f",
   "metadata": {},
   "source": [
    "## 로지스틱 함수"
   ]
  },
  {
   "cell_type": "code",
   "execution_count": 82,
   "id": "b1bcef20-a7c8-4379-97ad-caf36245cdfb",
   "metadata": {},
   "outputs": [],
   "source": [
    "import numpy as np\n",
    "import matplotlib.pyplot as plt"
   ]
  },
  {
   "cell_type": "code",
   "execution_count": 83,
   "id": "a28740ef-ed6e-4d62-a5ee-39208aa6b3a9",
   "metadata": {},
   "outputs": [],
   "source": [
    "def logistic(x):\n",
    "    return 1/(1+np.exp(-x))"
   ]
  },
  {
   "cell_type": "code",
   "execution_count": 84,
   "id": "b8dd2c1a-a384-478c-af57-5cd70a9a7bba",
   "metadata": {},
   "outputs": [],
   "source": [
    "x = np.linspace(-10,10,100)"
   ]
  },
  {
   "cell_type": "code",
   "execution_count": 85,
   "id": "b275890c-3282-402f-9cb6-8752b89e47eb",
   "metadata": {},
   "outputs": [
    {
     "data": {
      "text/plain": [
       "[<matplotlib.lines.Line2D at 0x7fef601bcbe0>]"
      ]
     },
     "execution_count": 85,
     "metadata": {},
     "output_type": "execute_result"
    },
    {
     "data": {
      "image/png": "[encoded data removed]",
      "text/plain": [
       "<Figure size 432x288 with 1 Axes>"
      ]
     },
     "metadata": {
      "needs_background": "light"
     },
     "output_type": "display_data"
    }
   ],
   "source": [
    "plt.plot(x, logistic(x))"
   ]
  },
  {
   "cell_type": "markdown",
   "id": "3b9a1bd7-1c71-45b2-8c8f-536b072ed02b",
   "metadata": {},
   "source": [
    "## 지수함수"
   ]
  },
  {
   "cell_type": "code",
   "execution_count": 86,
   "id": "1f3be518-d393-404d-a3cd-94126953e5c2",
   "metadata": {},
   "outputs": [
    {
     "data": {
      "text/plain": [
       "[<matplotlib.lines.Line2D at 0x7fef50a95ee0>]"
      ]
     },
     "execution_count": 86,
     "metadata": {},
     "output_type": "execute_result"
    },
    {
     "data": {
      "image/png": "[encoded data removed]",
      "text/plain": [
       "<Figure size 432x288 with 1 Axes>"
      ]
     },
     "metadata": {
      "needs_background": "light"
     },
     "output_type": "display_data"
    }
   ],
   "source": [
    "plt.plot(x, np.exp(x))"
   ]
  },
  {
   "cell_type": "markdown",
   "id": "7941774d-bbe2-45c9-b7bc-2a1860e2d110",
   "metadata": {},
   "source": [
    "### 복습"
   ]
  },
  {
   "cell_type": "code",
   "execution_count": 87,
   "id": "4ae25f30-72c7-4fcb-ac0b-8959abc69d94",
   "metadata": {},
   "outputs": [],
   "source": [
    "# 5x8 행렬 (성분은 10이하의 정수)\n",
    "a = np.array(np.random.randint(10,size=40).reshape(5,8))"
   ]
  },
  {
   "cell_type": "code",
   "execution_count": 88,
   "id": "411c299e-eadf-4268-af0c-8c176dffce2b",
   "metadata": {},
   "outputs": [],
   "source": [
    "# 8x7 행렬 (성분은 10이하의 정수)\n",
    "b = np.array(np.random.randint(10,size=56).reshape(8,7))"
   ]
  },
  {
   "cell_type": "markdown",
   "id": "1184f69d-1f8a-417d-87c8-5ede83eec958",
   "metadata": {},
   "source": [
    "#### 행렬 내적"
   ]
  },
  {
   "cell_type": "code",
   "execution_count": 89,
   "id": "fb2d9a09-e8dd-45be-b150-48bab721c0cd",
   "metadata": {},
   "outputs": [
    {
     "data": {
      "text/plain": [
       "array([[114, 162, 174, 114, 248, 110, 108],\n",
       "       [176, 112, 172, 115, 190, 104,  39],\n",
       "       [ 87, 151, 128,  64, 160,  82,  82],\n",
       "       [135, 112, 146,  77,  98, 104,  38],\n",
       "       [ 75, 103, 127,  45, 139,  63,  45]])"
      ]
     },
     "execution_count": 89,
     "metadata": {},
     "output_type": "execute_result"
    }
   ],
   "source": [
    "# 행렬의 곱셈 (내적)\n",
    "a @ b"
   ]
  },
  {
   "cell_type": "code",
   "execution_count": 90,
   "id": "ef0f4a80-5c96-486e-bb5f-163ac40decd8",
   "metadata": {},
   "outputs": [
    {
     "data": {
      "text/plain": [
       "array([[114, 162, 174, 114, 248, 110, 108],\n",
       "       [176, 112, 172, 115, 190, 104,  39],\n",
       "       [ 87, 151, 128,  64, 160,  82,  82],\n",
       "       [135, 112, 146,  77,  98, 104,  38],\n",
       "       [ 75, 103, 127,  45, 139,  63,  45]])"
      ]
     },
     "execution_count": 90,
     "metadata": {},
     "output_type": "execute_result"
    }
   ],
   "source": [
    "a.dot(b)"
   ]
  },
  {
   "cell_type": "code",
   "execution_count": 91,
   "id": "b168bc72-cb89-4747-8b7d-c035b54ab0a8",
   "metadata": {},
   "outputs": [
    {
     "data": {
      "text/plain": [
       "array([[114, 162, 174, 114, 248, 110, 108],\n",
       "       [176, 112, 172, 115, 190, 104,  39],\n",
       "       [ 87, 151, 128,  64, 160,  82,  82],\n",
       "       [135, 112, 146,  77,  98, 104,  38],\n",
       "       [ 75, 103, 127,  45, 139,  63,  45]])"
      ]
     },
     "execution_count": 91,
     "metadata": {},
     "output_type": "execute_result"
    }
   ],
   "source": [
    "np.matmul(a,b)"
   ]
  },
  {
   "cell_type": "code",
   "execution_count": 92,
   "id": "88ba46bb-9d2a-405d-9975-bf26ca61213f",
   "metadata": {},
   "outputs": [
    {
     "data": {
      "text/plain": [
       "array([[114, 162, 174, 114, 248, 110, 108],\n",
       "       [176, 112, 172, 115, 190, 104,  39],\n",
       "       [ 87, 151, 128,  64, 160,  82,  82],\n",
       "       [135, 112, 146,  77,  98, 104,  38],\n",
       "       [ 75, 103, 127,  45, 139,  63,  45]])"
      ]
     },
     "execution_count": 92,
     "metadata": {},
     "output_type": "execute_result"
    }
   ],
   "source": [
    "np.dot(a,b)"
   ]
  },
  {
   "cell_type": "code",
   "execution_count": 93,
   "id": "6c4d8db6-6dc0-4749-a653-5c51e7e47ada",
   "metadata": {},
   "outputs": [],
   "source": [
    "def sigmod(x) :\n",
    "    return 1/(1 + np.exp(-x))"
   ]
  },
  {
   "cell_type": "code",
   "execution_count": 94,
   "id": "d5a0583a-c36c-475d-b4db-a91b7aff5f31",
   "metadata": {},
   "outputs": [
    {
     "data": {
      "text/plain": [
       "array([[1., 1., 1., 1., 1., 1., 1.],\n",
       "       [1., 1., 1., 1., 1., 1., 1.],\n",
       "       [1., 1., 1., 1., 1., 1., 1.],\n",
       "       [1., 1., 1., 1., 1., 1., 1.],\n",
       "       [1., 1., 1., 1., 1., 1., 1.]])"
      ]
     },
     "execution_count": 94,
     "metadata": {},
     "output_type": "execute_result"
    }
   ],
   "source": [
    "sigmod(a@b)"
   ]
  },
  {
   "cell_type": "markdown",
   "id": "3af28495-5aee-4d72-ba31-2fbe5627af33",
   "metadata": {},
   "source": [
    "## 부호함수"
   ]
  },
  {
   "cell_type": "code",
   "execution_count": 95,
   "id": "025c0df4-1bac-4dc2-8681-b55d223aac90",
   "metadata": {},
   "outputs": [
    {
     "data": {
      "text/plain": [
       "1.0"
      ]
     },
     "execution_count": 95,
     "metadata": {},
     "output_type": "execute_result"
    }
   ],
   "source": [
    "np.sign(3.25)"
   ]
  },
  {
   "cell_type": "code",
   "execution_count": 96,
   "id": "6ba4724d-c5f7-48ef-a3cf-94c023cc11c4",
   "metadata": {},
   "outputs": [
    {
     "data": {
      "text/plain": [
       "0"
      ]
     },
     "execution_count": 96,
     "metadata": {},
     "output_type": "execute_result"
    }
   ],
   "source": [
    "np.sign(0)"
   ]
  },
  {
   "cell_type": "code",
   "execution_count": 97,
   "id": "0750d005-8fb1-4762-9382-c8ef95c2017a",
   "metadata": {},
   "outputs": [
    {
     "data": {
      "text/plain": [
       "-1.0"
      ]
     },
     "execution_count": 97,
     "metadata": {},
     "output_type": "execute_result"
    }
   ],
   "source": [
    "np.sign(-1.23)"
   ]
  },
  {
   "cell_type": "code",
   "execution_count": 98,
   "id": "f7633b6f-84e9-414b-b6af-349258d23e9c",
   "metadata": {},
   "outputs": [],
   "source": [
    "# [-1, 3] 10개의 점으로 나누어라.\n",
    "\n",
    "x = np.linspace(-1,3,20)"
   ]
  },
  {
   "cell_type": "code",
   "execution_count": 99,
   "id": "125a0fc2-d73e-479d-b1ef-f53c8159caff",
   "metadata": {},
   "outputs": [],
   "source": [
    "import matplotlib.pyplot as plt"
   ]
  },
  {
   "cell_type": "code",
   "execution_count": 100,
   "id": "75fab4aa-c2b3-4c31-920b-8695ca68f1e1",
   "metadata": {},
   "outputs": [
    {
     "data": {
      "text/plain": [
       "[<matplotlib.lines.Line2D at 0x7fef70f95e20>]"
      ]
     },
     "execution_count": 100,
     "metadata": {},
     "output_type": "execute_result"
    },
    {
     "data": {
      "image/png": "[encoded data removed]",
      "text/plain": [
       "<Figure size 432x288 with 1 Axes>"
      ]
     },
     "metadata": {
      "needs_background": "light"
     },
     "output_type": "display_data"
    }
   ],
   "source": [
    "plt.plot(x, x**2)"
   ]
  },
  {
   "cell_type": "markdown",
   "id": "498a59be-7877-4e70-a078-0578e22cd01b",
   "metadata": {},
   "source": [
    "## 다항삼수 그리기"
   ]
  },
  {
   "cell_type": "code",
   "execution_count": 101,
   "id": "76d3f264-dca3-4ed8-9915-776904bc64ca",
   "metadata": {},
   "outputs": [
    {
     "data": {
      "text/plain": [
       "[<matplotlib.lines.Line2D at 0x7fef50b5e0d0>]"
      ]
     },
     "execution_count": 101,
     "metadata": {},
     "output_type": "execute_result"
    },
    {
     "data": {
      "image/png": "[encoded data removed]",
      "text/plain": [
       "<Figure size 432x288 with 1 Axes>"
      ]
     },
     "metadata": {
      "needs_background": "light"
     },
     "output_type": "display_data"
    }
   ],
   "source": [
    "plt.plot(x, x**3 - 3*x**2 + x)"
   ]
  },
  {
   "cell_type": "code",
   "execution_count": 102,
   "id": "33128d77-ad70-4646-baf8-24454c1f7c27",
   "metadata": {},
   "outputs": [],
   "source": [
    "def f(x) :\n",
    "    return x**2"
   ]
  },
  {
   "cell_type": "code",
   "execution_count": 103,
   "id": "cd5d6b5e-e9dc-4ebd-9061-f09d7ef19bcc",
   "metadata": {},
   "outputs": [
    {
     "data": {
      "text/plain": [
       "[<matplotlib.lines.Line2D at 0x7fef605416a0>]"
      ]
     },
     "execution_count": 103,
     "metadata": {},
     "output_type": "execute_result"
    },
    {
     "data": {
      "image/png": "[encoded data removed]",
      "text/plain": [
       "<Figure size 432x288 with 1 Axes>"
      ]
     },
     "metadata": {
      "needs_background": "light"
     },
     "output_type": "display_data"
    }
   ],
   "source": [
    "plt.plot(x, f(x))"
   ]
  },
  {
   "cell_type": "code",
   "execution_count": 104,
   "id": "be70039c-c264-4cfd-bb2b-77b0b47a43d6",
   "metadata": {},
   "outputs": [],
   "source": [
    "x = np.linspace(0,3,20)"
   ]
  },
  {
   "cell_type": "code",
   "execution_count": 105,
   "id": "e6e83508-ad3c-40b1-9f5a-24426148a300",
   "metadata": {},
   "outputs": [
    {
     "data": {
      "text/plain": [
       "[<matplotlib.lines.Line2D at 0x7fef70ec55e0>]"
      ]
     },
     "execution_count": 105,
     "metadata": {},
     "output_type": "execute_result"
    },
    {
     "data": {
      "image/png": "[encoded data removed]",
      "text/plain": [
       "<Figure size 432x288 with 1 Axes>"
      ]
     },
     "metadata": {
      "needs_background": "light"
     },
     "output_type": "display_data"
    }
   ],
   "source": [
    "plt.plot(x, f(x))\n",
    "plt.plot(x, np.sqrt(x)) # 역함수"
   ]
  },
  {
   "cell_type": "markdown",
   "id": "8e86fad9-4f95-4de8-bfef-4129eae4147f",
   "metadata": {},
   "source": [
    "## ReLU 함수, 중요!"
   ]
  },
  {
   "cell_type": "code",
   "execution_count": 106,
   "id": "12c127cd-7202-40af-9904-08e2451fac2a",
   "metadata": {},
   "outputs": [
    {
     "data": {
      "text/plain": [
       "[<matplotlib.lines.Line2D at 0x7fef70d61d90>]"
      ]
     },
     "execution_count": 106,
     "metadata": {},
     "output_type": "execute_result"
    },
    {
     "data": {
      "image/png": "[encoded data removed]",
      "text/plain": [
       "<Figure size 432x288 with 1 Axes>"
      ]
     },
     "metadata": {
      "needs_background": "light"
     },
     "output_type": "display_data"
    }
   ],
   "source": [
    "plt.plot(x, np.maximum(x,0))"
   ]
  },
  {
   "cell_type": "code",
   "execution_count": 107,
   "id": "d3dc58bd-7e98-461a-a1a0-5559958bae65",
   "metadata": {},
   "outputs": [],
   "source": [
    "def relu(x) :\n",
    "    if x>=0:\n",
    "        return x\n",
    "    else :\n",
    "        return 0"
   ]
  },
  {
   "cell_type": "code",
   "execution_count": 108,
   "id": "1ae0202a-60b2-4e7d-846c-89ed2d46cd96",
   "metadata": {},
   "outputs": [
    {
     "ename": "ValueError",
     "evalue": "The truth value of an array with more than one element is ambiguous. Use a.any() or a.all()",
     "output_type": "error",
     "traceback": [
      "\u001b[0;31m---------------------------------------------------------------------------\u001b[0m",
      "\u001b[0;31mValueError\u001b[0m                                Traceback (most recent call last)",
      "\u001b[0;32m/var/folders/6z/_hbzx8ln77jg3b982qzcp4xh0000gn/T/ipykernel_2288/2667349868.py\u001b[0m in \u001b[0;36m<module>\u001b[0;34m\u001b[0m\n\u001b[1;32m      1\u001b[0m \u001b[0mx\u001b[0m \u001b[0;34m=\u001b[0m \u001b[0mnp\u001b[0m\u001b[0;34m.\u001b[0m\u001b[0mlinspace\u001b[0m\u001b[0;34m(\u001b[0m\u001b[0;34m-\u001b[0m\u001b[0;36m3\u001b[0m\u001b[0;34m,\u001b[0m \u001b[0;36m3\u001b[0m\u001b[0;34m,\u001b[0m\u001b[0;36m20\u001b[0m\u001b[0;34m)\u001b[0m\u001b[0;34m\u001b[0m\u001b[0;34m\u001b[0m\u001b[0m\n\u001b[0;32m----> 2\u001b[0;31m \u001b[0mplt\u001b[0m\u001b[0;34m.\u001b[0m\u001b[0mplot\u001b[0m\u001b[0;34m(\u001b[0m\u001b[0mx\u001b[0m\u001b[0;34m,\u001b[0m \u001b[0mrelu\u001b[0m\u001b[0;34m(\u001b[0m\u001b[0mx\u001b[0m\u001b[0;34m)\u001b[0m\u001b[0;34m)\u001b[0m\u001b[0;34m\u001b[0m\u001b[0;34m\u001b[0m\u001b[0m\n\u001b[0m",
      "\u001b[0;32m/var/folders/6z/_hbzx8ln77jg3b982qzcp4xh0000gn/T/ipykernel_2288/979272561.py\u001b[0m in \u001b[0;36mrelu\u001b[0;34m(x)\u001b[0m\n\u001b[1;32m      1\u001b[0m \u001b[0;32mdef\u001b[0m \u001b[0mrelu\u001b[0m\u001b[0;34m(\u001b[0m\u001b[0mx\u001b[0m\u001b[0;34m)\u001b[0m \u001b[0;34m:\u001b[0m\u001b[0;34m\u001b[0m\u001b[0;34m\u001b[0m\u001b[0m\n\u001b[0;32m----> 2\u001b[0;31m     \u001b[0;32mif\u001b[0m \u001b[0mx\u001b[0m\u001b[0;34m>=\u001b[0m\u001b[0;36m0\u001b[0m\u001b[0;34m:\u001b[0m\u001b[0;34m\u001b[0m\u001b[0;34m\u001b[0m\u001b[0m\n\u001b[0m\u001b[1;32m      3\u001b[0m         \u001b[0;32mreturn\u001b[0m \u001b[0mx\u001b[0m\u001b[0;34m\u001b[0m\u001b[0;34m\u001b[0m\u001b[0m\n\u001b[1;32m      4\u001b[0m     \u001b[0;32melse\u001b[0m \u001b[0;34m:\u001b[0m\u001b[0;34m\u001b[0m\u001b[0;34m\u001b[0m\u001b[0m\n\u001b[1;32m      5\u001b[0m         \u001b[0;32mreturn\u001b[0m \u001b[0;36m0\u001b[0m\u001b[0;34m\u001b[0m\u001b[0;34m\u001b[0m\u001b[0m\n",
      "\u001b[0;31mValueError\u001b[0m: The truth value of an array with more than one element is ambiguous. Use a.any() or a.all()"
     ]
    }
   ],
   "source": [
    "x = np.linspace(-3, 3,20)\n",
    "plt.plot(x, relu(x))"
   ]
  },
  {
   "cell_type": "markdown",
   "id": "e42ae58c-a92b-451c-aeaa-792e0511fb55",
   "metadata": {},
   "source": [
    "## 지수함수"
   ]
  },
  {
   "cell_type": "code",
   "execution_count": 109,
   "id": "aec0b152-47dd-471d-9822-18fe9982e32f",
   "metadata": {},
   "outputs": [
    {
     "data": {
      "text/plain": [
       "2.718281828459045"
      ]
     },
     "execution_count": 109,
     "metadata": {},
     "output_type": "execute_result"
    }
   ],
   "source": [
    "np.e"
   ]
  },
  {
   "cell_type": "code",
   "execution_count": 110,
   "id": "f37ebda1-54f6-4512-8019-5ac3da8ddeda",
   "metadata": {},
   "outputs": [
    {
     "data": {
      "text/plain": [
       "20.085536923187668"
      ]
     },
     "execution_count": 110,
     "metadata": {},
     "output_type": "execute_result"
    }
   ],
   "source": [
    "np.exp(3)"
   ]
  },
  {
   "cell_type": "code",
   "execution_count": 111,
   "id": "eac6b261-caeb-4fd5-a878-7c5ae27c4cf4",
   "metadata": {},
   "outputs": [
    {
     "data": {
      "text/plain": [
       "1.0"
      ]
     },
     "execution_count": 111,
     "metadata": {},
     "output_type": "execute_result"
    }
   ],
   "source": [
    "np.exp(0)"
   ]
  },
  {
   "cell_type": "code",
   "execution_count": 112,
   "id": "91626a87-c7ff-4002-a8a6-ce79d102fa33",
   "metadata": {},
   "outputs": [
    {
     "data": {
      "text/plain": [
       "1.1051709180756477"
      ]
     },
     "execution_count": 112,
     "metadata": {},
     "output_type": "execute_result"
    }
   ],
   "source": [
    "np.exp(0.1)"
   ]
  },
  {
   "cell_type": "code",
   "execution_count": 113,
   "id": "311d2176-f6b8-4171-9297-e74e1afd9ee6",
   "metadata": {},
   "outputs": [
    {
     "data": {
      "text/plain": [
       "0.9048374180359595"
      ]
     },
     "execution_count": 113,
     "metadata": {},
     "output_type": "execute_result"
    }
   ],
   "source": [
    "np.exp(-0.1)"
   ]
  },
  {
   "cell_type": "code",
   "execution_count": 114,
   "id": "e04a1a48-a9af-4f75-ba0f-f73ef141efc2",
   "metadata": {},
   "outputs": [
    {
     "data": {
      "text/plain": [
       "0.36787944117144233"
      ]
     },
     "execution_count": 114,
     "metadata": {},
     "output_type": "execute_result"
    }
   ],
   "source": [
    "np.exp(-1)"
   ]
  },
  {
   "cell_type": "code",
   "execution_count": 115,
   "id": "eb785726-bfbd-4b70-99b7-4aade4f83d52",
   "metadata": {},
   "outputs": [
    {
     "data": {
      "text/plain": [
       "[<matplotlib.lines.Line2D at 0x7fef604271f0>]"
      ]
     },
     "execution_count": 115,
     "metadata": {},
     "output_type": "execute_result"
    },
    {
     "data": {
      "image/png": "[encoded data removed]",
      "text/plain": [
       "<Figure size 432x288 with 1 Axes>"
      ]
     },
     "metadata": {
      "needs_background": "light"
     },
     "output_type": "display_data"
    }
   ],
   "source": [
    "plt.plot(x, np.exp(x))"
   ]
  },
  {
   "cell_type": "markdown",
   "id": "c0b68dcc-c2fe-4ac5-a0b4-e917d1ac3f16",
   "metadata": {},
   "source": [
    "## 로그함수"
   ]
  },
  {
   "cell_type": "code",
   "execution_count": 116,
   "id": "b50761b8-657d-4a33-af8d-2fb19dfeeb03",
   "metadata": {},
   "outputs": [
    {
     "name": "stderr",
     "output_type": "stream",
     "text": [
      "/var/folders/6z/_hbzx8ln77jg3b982qzcp4xh0000gn/T/ipykernel_2288/1277889159.py:1: RuntimeWarning: invalid value encountered in log\n",
      "  np.log(x)\n"
     ]
    },
    {
     "data": {
      "text/plain": [
       "array([        nan,         nan,         nan,         nan,         nan,\n",
       "               nan,         nan,         nan,         nan,         nan,\n",
       "       -1.84582669, -0.7472144 , -0.23638878,  0.10008346,  0.35139789,\n",
       "        0.55206858,  0.71912267,  0.86222351,  0.98738665,  1.09861229])"
      ]
     },
     "execution_count": 116,
     "metadata": {},
     "output_type": "execute_result"
    }
   ],
   "source": [
    "np.log(x)"
   ]
  },
  {
   "cell_type": "code",
   "execution_count": 117,
   "id": "eff8cd3a-a70a-4573-8e9b-db76418db768",
   "metadata": {},
   "outputs": [
    {
     "name": "stderr",
     "output_type": "stream",
     "text": [
      "/var/folders/6z/_hbzx8ln77jg3b982qzcp4xh0000gn/T/ipykernel_2288/2742365056.py:1: RuntimeWarning: invalid value encountered in log\n",
      "  plt.plot(x, np.log(x))\n"
     ]
    },
    {
     "data": {
      "text/plain": [
       "[<matplotlib.lines.Line2D at 0x7fef70d73130>]"
      ]
     },
     "execution_count": 117,
     "metadata": {},
     "output_type": "execute_result"
    },
    {
     "data": {
      "image/png": "[encoded data removed]",
      "text/plain": [
       "<Figure size 432x288 with 1 Axes>"
      ]
     },
     "metadata": {
      "needs_background": "light"
     },
     "output_type": "display_data"
    }
   ],
   "source": [
    "plt.plot(x, np.log(x))"
   ]
  },
  {
   "cell_type": "markdown",
   "id": "68282297-265d-4e09-8725-3604d82dc1ae",
   "metadata": {},
   "source": [
    "### ※ 그래프 한글깨짐 해결방법"
   ]
  },
  {
   "cell_type": "code",
   "execution_count": 28,
   "id": "ed9e8326-d19b-45ae-932f-c147d9e2973a",
   "metadata": {},
   "outputs": [],
   "source": [
    "import matplotlib.pyplot as plt\n",
    "from matplotlib import rc\n",
    "import seaborn as sns\n",
    "%matplotlib inline\n",
    "\n",
    "rc('font', family='AppleGothic')\n",
    "\n",
    "plt.rcParams['axes.unicode_minus'] = False"
   ]
  },
  {
   "cell_type": "markdown",
   "id": "9779dc52-09e8-4055-8d75-b15212445e28",
   "metadata": {},
   "source": [
    "## 다변수함수"
   ]
  },
  {
   "cell_type": "code",
   "execution_count": 118,
   "id": "4e165e92-9378-4940-8fb6-6d9b0dec7c94",
   "metadata": {},
   "outputs": [
    {
     "name": "stderr",
     "output_type": "stream",
     "text": [
      "/var/folders/6z/_hbzx8ln77jg3b982qzcp4xh0000gn/T/ipykernel_2288/3551058971.py:10: MatplotlibDeprecationWarning: Calling gca() with keyword arguments was deprecated in Matplotlib 3.4. Starting two minor releases later, gca() will take no keyword arguments. The gca() function should only be used to get the current axes, or if no axes exist, create new axes with default keyword arguments. To create a new axes with non-default arguments, use plt.axes() or plt.subplot().\n",
      "  ax = fig.gca(projection='3d')\n"
     ]
    },
    {
     "data": {
      "image/png": "[encoded data removed]",
      "text/plain": [
       "<Figure size 432x288 with 1 Axes>"
      ]
     },
     "metadata": {
      "needs_background": "light"
     },
     "output_type": "display_data"
    }
   ],
   "source": [
    "def f(x, y):\n",
    "    return 2 * x**2 + 6 * x * y + 7 * y**2 - 26 * x - 54 * y + 107\n",
    "\n",
    "xx = np.linspace(-3, 7, 100)\n",
    "yy = np.linspace(-3, 7, 100)\n",
    "X, Y = np.meshgrid(xx, yy)\n",
    "Z = f(X, Y)\n",
    "\n",
    "fig = plt.figure()\n",
    "ax = fig.gca(projection='3d')\n",
    "ax.plot_surface(X, Y, Z, linewidth=0.1)\n",
    "ax.view_init(40, -110)\n",
    "plt.xlabel('x')\n",
    "plt.ylabel('y')\n",
    "ax.set_zlabel('z')\n",
    "plt.title(\"서피스 플롯(Surface Plot)\")\n",
    "plt.show()"
   ]
  },
  {
   "cell_type": "markdown",
   "id": "07e0496c-ee1f-4061-b20a-6c2dfe16ec32",
   "metadata": {},
   "source": [
    "# 심파이(SymPy)를 사용한 함수 미분"
   ]
  },
  {
   "cell_type": "code",
   "execution_count": 119,
   "id": "293911ac-fd59-41b9-95b8-602bbb48521b",
   "metadata": {},
   "outputs": [],
   "source": [
    "def f(x) :\n",
    "    return x**3 - 3*x**2 + x"
   ]
  },
  {
   "cell_type": "code",
   "execution_count": 120,
   "id": "e06fa388-4fed-4d79-be83-520b2c2868e6",
   "metadata": {},
   "outputs": [],
   "source": [
    "x = np.linspace(-1, 3, 400)"
   ]
  },
  {
   "cell_type": "code",
   "execution_count": 121,
   "id": "0ced53ba-9047-4cf2-8c8e-aec748ac386a",
   "metadata": {},
   "outputs": [
    {
     "data": {
      "image/png": "[encoded data removed]",
      "text/plain": [
       "<Figure size 432x288 with 1 Axes>"
      ]
     },
     "metadata": {
      "needs_background": "light"
     },
     "output_type": "display_data"
    }
   ],
   "source": [
    "# 그래프를 그려봅시다.\n",
    "\n",
    "plt.plot(x, f(x))\n",
    "plt.show()"
   ]
  },
  {
   "cell_type": "code",
   "execution_count": 122,
   "id": "dcb100bd-3daf-4fc2-a861-a8a6c205c688",
   "metadata": {},
   "outputs": [],
   "source": [
    "from scipy.misc import derivative"
   ]
  },
  {
   "cell_type": "code",
   "execution_count": 123,
   "id": "405ec879-9863-45de-b622-7d211ed08ff4",
   "metadata": {},
   "outputs": [
    {
     "data": {
      "text/plain": [
       "1.000000000001"
      ]
     },
     "execution_count": 123,
     "metadata": {},
     "output_type": "execute_result"
    }
   ],
   "source": [
    "derivative(f, 0, dx = 1e-6)"
   ]
  },
  {
   "cell_type": "code",
   "execution_count": 124,
   "id": "b8420861-773a-4ea4-b57f-bf03811cdd38",
   "metadata": {},
   "outputs": [
    {
     "data": {
      "text/plain": [
       "-2.000000000002"
      ]
     },
     "execution_count": 124,
     "metadata": {},
     "output_type": "execute_result"
    }
   ],
   "source": [
    "# x=1인 지점에서의 기울기는?\n",
    "derivative(f, 1, dx = 1e-6)"
   ]
  },
  {
   "cell_type": "code",
   "execution_count": 125,
   "id": "c41dc0cc-6748-48fb-a5f9-efd47049d0ea",
   "metadata": {},
   "outputs": [],
   "source": [
    "def f(x) :\n",
    "    return x**3 - 3*x**2 + x"
   ]
  },
  {
   "cell_type": "markdown",
   "id": "75cf64c6-7c97-4847-86e3-9ad4b8ff13a7",
   "metadata": {},
   "source": [
    "## 도함수 구하기"
   ]
  },
  {
   "cell_type": "code",
   "execution_count": 126,
   "id": "e5ecf3e1-89b6-48da-bda0-3b855bb8252a",
   "metadata": {},
   "outputs": [],
   "source": [
    "import sympy"
   ]
  },
  {
   "cell_type": "code",
   "execution_count": 127,
   "id": "a6da4e0f-2237-438d-b2f1-c3f53633ef30",
   "metadata": {},
   "outputs": [],
   "source": [
    "x = sympy.symbols('x')\n",
    "f = x**3 - 3*x**2 + 1"
   ]
  },
  {
   "cell_type": "code",
   "execution_count": 128,
   "id": "a4afaaae-01a2-4b2b-8bbd-480af2a5076a",
   "metadata": {},
   "outputs": [
    {
     "data": {
      "text/latex": [
       "$\\displaystyle 3 x^{2} - 6 x$"
      ],
      "text/plain": [
       "3*x**2 - 6*x"
      ]
     },
     "execution_count": 128,
     "metadata": {},
     "output_type": "execute_result"
    }
   ],
   "source": [
    "sympy.diff(f)"
   ]
  },
  {
   "cell_type": "code",
   "execution_count": 129,
   "id": "abed8518-3b9d-4696-bc8e-8d0c661bc558",
   "metadata": {},
   "outputs": [
    {
     "data": {
      "text/latex": [
       "$\\displaystyle 3 x \\left(x - 2\\right)$"
      ],
      "text/plain": [
       "3*x*(x - 2)"
      ]
     },
     "execution_count": 129,
     "metadata": {},
     "output_type": "execute_result"
    }
   ],
   "source": [
    "sympy.simplify(sympy.diff(f))"
   ]
  },
  {
   "cell_type": "code",
   "execution_count": 130,
   "id": "ed81598b-3b29-4279-b433-726b04a3ddc8",
   "metadata": {},
   "outputs": [
    {
     "data": {
      "text/latex": [
       "$\\displaystyle x e^{x} + e^{x}$"
      ],
      "text/plain": [
       "x*exp(x) + exp(x)"
      ]
     },
     "execution_count": 130,
     "metadata": {},
     "output_type": "execute_result"
    }
   ],
   "source": [
    "f = x * sympy.exp(x)\n",
    "sympy.diff(f)"
   ]
  },
  {
   "cell_type": "code",
   "execution_count": 131,
   "id": "dc082ad4-3f0a-45b5-82fb-0850fed410db",
   "metadata": {},
   "outputs": [
    {
     "data": {
      "text/latex": [
       "$\\displaystyle \\left(x + 1\\right) e^{x}$"
      ],
      "text/plain": [
       "(x + 1)*exp(x)"
      ]
     },
     "execution_count": 131,
     "metadata": {},
     "output_type": "execute_result"
    }
   ],
   "source": [
    "sympy.simplify(sympy.diff(f))"
   ]
  },
  {
   "cell_type": "code",
   "execution_count": 132,
   "id": "93cd5d15-5d1e-4924-9abb-26b855204211",
   "metadata": {},
   "outputs": [
    {
     "data": {
      "text/latex": [
       "$\\displaystyle \\frac{e^{- x}}{\\left(1 + e^{- x}\\right)^{2}}$"
      ],
      "text/plain": [
       "exp(-x)/(1 + exp(-x))**2"
      ]
     },
     "execution_count": 132,
     "metadata": {},
     "output_type": "execute_result"
    }
   ],
   "source": [
    "# 시그모이드를 미분한 도함수는?\n",
    "\n",
    "f = 1 / (1+sympy.exp(-x))\n",
    "sympy.diff(f)"
   ]
  },
  {
   "cell_type": "code",
   "execution_count": 133,
   "id": "a64592e3-4069-48c8-88c6-e52118a83241",
   "metadata": {},
   "outputs": [
    {
     "data": {
      "text/latex": [
       "$\\displaystyle x^{2} + 4 x y + 4 y^{2}$"
      ],
      "text/plain": [
       "x**2 + 4*x*y + 4*y**2"
      ]
     },
     "execution_count": 133,
     "metadata": {},
     "output_type": "execute_result"
    }
   ],
   "source": [
    "x, y = sympy.symbols('x y')\n",
    "f = x**2 + 4*x*y + 4*y**2\n",
    "f"
   ]
  },
  {
   "cell_type": "code",
   "execution_count": 134,
   "id": "78017cdd-c0da-4758-8dbc-8fb19198c8de",
   "metadata": {},
   "outputs": [
    {
     "data": {
      "text/latex": [
       "$\\displaystyle 2 x + 4 y$"
      ],
      "text/plain": [
       "2*x + 4*y"
      ]
     },
     "execution_count": 134,
     "metadata": {},
     "output_type": "execute_result"
    }
   ],
   "source": [
    "sympy.diff(f,x)"
   ]
  },
  {
   "cell_type": "code",
   "execution_count": 135,
   "id": "94d45213-1fb5-4307-b5b6-6b9d6235abbb",
   "metadata": {},
   "outputs": [
    {
     "data": {
      "text/latex": [
       "$\\displaystyle 4 x + 8 y$"
      ],
      "text/plain": [
       "4*x + 8*y"
      ]
     },
     "execution_count": 135,
     "metadata": {},
     "output_type": "execute_result"
    }
   ],
   "source": [
    "sympy.diff(f,y)"
   ]
  },
  {
   "cell_type": "markdown",
   "id": "054c3ecb-d63f-45a5-89ce-296d11a142c4",
   "metadata": {},
   "source": [
    "Derivative : 도함수\n",
    "\n",
    "derivative - 도함수를 구해 특정 x값을 넣어 그 지점의 기울기 구하기\n",
    "\n",
    "diff - 도함수 구하기"
   ]
  },
  {
   "cell_type": "code",
   "execution_count": null,
   "id": "c568ef14-bca8-4571-a173-f3a28d2e9bac",
   "metadata": {},
   "outputs": [],
   "source": []
  }
 ],
 "metadata": {
  "kernelspec": {
   "display_name": "Python 3 (ipykernel)",
   "language": "python",
   "name": "python3"
  },
  "language_info": {
   "codemirror_mode": {
    "name": "ipython",
    "version": 3
   },
   "file_extension": ".py",
   "mimetype": "text/x-python",
   "name": "python",
   "nbconvert_exporter": "python",
   "pygments_lexer": "ipython3",
   "version": "3.9.7"
  }
 },
 "nbformat": 4,
 "nbformat_minor": 5
}
